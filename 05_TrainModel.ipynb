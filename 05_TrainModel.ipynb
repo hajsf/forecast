{
  "cells": [
    {
      "cell_type": "markdown",
      "metadata": {
        "id": "view-in-github",
        "colab_type": "text"
      },
      "source": [
        "<a href=\"https://colab.research.google.com/github/hajsf/Time-Series-Forecast/blob/main/05_TrainModel.ipynb\" target=\"_parent\"><img src=\"https://colab.research.google.com/assets/colab-badge.svg\" alt=\"Open In Colab\"/></a>"
      ]
    },
    {
      "cell_type": "markdown",
      "metadata": {
        "id": "bEp9tZLZmLvl"
      },
      "source": [
        "Mount google drive"
      ]
    },
    {
      "cell_type": "code",
      "execution_count": 1,
      "metadata": {
        "id": "xCiQK9EymKri",
        "colab": {
          "base_uri": "https://localhost:8080/"
        },
        "outputId": "19f37eab-e8c0-40d6-ddf1-1770c66840b8"
      },
      "outputs": [
        {
          "output_type": "stream",
          "name": "stdout",
          "text": [
            "Mounted at /content/drive\n"
          ]
        }
      ],
      "source": [
        "from google.colab import drive\n",
        "drive.mount('/content/drive', force_remount=True)"
      ]
    },
    {
      "cell_type": "code",
      "source": [
        "import pandas as pd\n",
        "import glob\n",
        "import numpy as np"
      ],
      "metadata": {
        "id": "vFgtZTRq63k5"
      },
      "execution_count": 3,
      "outputs": []
    },
    {
      "cell_type": "code",
      "execution_count": 4,
      "metadata": {
        "id": "h2LQvqXbpQpx"
      },
      "outputs": [],
      "source": [
        "# import required library\n",
        "import matplotlib.pyplot as plt\n",
        "import seaborn as sns\n",
        "import xgboost as xgb\n",
        "from sklearn.metrics import mean_squared_error, explained_variance_score, r2_score, median_absolute_error\n",
        "import pickle"
      ]
    },
    {
      "cell_type": "markdown",
      "metadata": {
        "id": "ExreCoBoa1b9"
      },
      "source": [
        "**Read the pickle files**\n",
        "\n",
        "\n",
        "\n"
      ]
    },
    {
      "cell_type": "code",
      "source": [
        "pathData = \"/content/drive/MyDrive/ColabNotebooks/dataset/02_ProcessedData/\"\n",
        "path = \"/content/drive/MyDrive/ColabNotebooks/dataset/05_TrainedModel/\""
      ],
      "metadata": {
        "id": "vrDDwi4cywry"
      },
      "execution_count": 5,
      "outputs": []
    },
    {
      "cell_type": "code",
      "execution_count": 11,
      "metadata": {
        "id": "bSn40j76mKrz",
        "colab": {
          "base_uri": "https://localhost:8080/",
          "height": 386
        },
        "outputId": "422a3c43-efe2-40a9-9f1d-fcb72434083f"
      },
      "outputs": [
        {
          "output_type": "execute_result",
          "data": {
            "text/plain": [
              "       DATE1  SLS_CNTR_ID   QTY  hashedSKU  dayofyear  Monthday  Weekday  \\\n",
              "0 2019-01-01            2  11.0   47218709          1         1        1   \n",
              "1 2019-01-01           18   1.0   78917883          1         1        1   \n",
              "2 2019-01-01            2  18.0   78917883          1         1        1   \n",
              "3 2019-01-01            4  36.0   78917883          1         1        1   \n",
              "4 2019-01-01            5   4.0   78917883          1         1        1   \n",
              "\n",
              "   weekofyear  month  quarter  ...  Category_Cancelled  Category_HomeMade  \\\n",
              "0           1      1        1  ...                   0                  0   \n",
              "1           1      1        1  ...                   0                  0   \n",
              "2           1      1        1  ...                   0                  0   \n",
              "3           1      1        1  ...                   0                  0   \n",
              "4           1      1        1  ...                   0                  0   \n",
              "\n",
              "   Category_HomeMadewithVAT  Category_Imported  Category_Itproducts  \\\n",
              "0                         0                  0                    0   \n",
              "1                         0                  1                    0   \n",
              "2                         0                  1                    0   \n",
              "3                         0                  1                    0   \n",
              "4                         0                  1                    0   \n",
              "\n",
              "   Category_Local  Category_Packaging  Category_Partner  Category_RawMaterial  \\\n",
              "0               1                   0                 0                     0   \n",
              "1               0                   0                 0                     0   \n",
              "2               0                   0                 0                     0   \n",
              "3               0                   0                 0                     0   \n",
              "4               0                   0                 0                     0   \n",
              "\n",
              "   Category_SisterCompany  \n",
              "0                       0  \n",
              "1                       0  \n",
              "2                       0  \n",
              "3                       0  \n",
              "4                       0  \n",
              "\n",
              "[5 rows x 30 columns]"
            ],
            "text/html": [
              "\n",
              "  <div id=\"df-fb3abe4f-9df8-4ad7-9d82-d121ede4e47e\">\n",
              "    <div class=\"colab-df-container\">\n",
              "      <div>\n",
              "<style scoped>\n",
              "    .dataframe tbody tr th:only-of-type {\n",
              "        vertical-align: middle;\n",
              "    }\n",
              "\n",
              "    .dataframe tbody tr th {\n",
              "        vertical-align: top;\n",
              "    }\n",
              "\n",
              "    .dataframe thead th {\n",
              "        text-align: right;\n",
              "    }\n",
              "</style>\n",
              "<table border=\"1\" class=\"dataframe\">\n",
              "  <thead>\n",
              "    <tr style=\"text-align: right;\">\n",
              "      <th></th>\n",
              "      <th>DATE1</th>\n",
              "      <th>SLS_CNTR_ID</th>\n",
              "      <th>QTY</th>\n",
              "      <th>hashedSKU</th>\n",
              "      <th>dayofyear</th>\n",
              "      <th>Monthday</th>\n",
              "      <th>Weekday</th>\n",
              "      <th>weekofyear</th>\n",
              "      <th>month</th>\n",
              "      <th>quarter</th>\n",
              "      <th>...</th>\n",
              "      <th>Category_Cancelled</th>\n",
              "      <th>Category_HomeMade</th>\n",
              "      <th>Category_HomeMadewithVAT</th>\n",
              "      <th>Category_Imported</th>\n",
              "      <th>Category_Itproducts</th>\n",
              "      <th>Category_Local</th>\n",
              "      <th>Category_Packaging</th>\n",
              "      <th>Category_Partner</th>\n",
              "      <th>Category_RawMaterial</th>\n",
              "      <th>Category_SisterCompany</th>\n",
              "    </tr>\n",
              "  </thead>\n",
              "  <tbody>\n",
              "    <tr>\n",
              "      <th>0</th>\n",
              "      <td>2019-01-01</td>\n",
              "      <td>2</td>\n",
              "      <td>11.0</td>\n",
              "      <td>47218709</td>\n",
              "      <td>1</td>\n",
              "      <td>1</td>\n",
              "      <td>1</td>\n",
              "      <td>1</td>\n",
              "      <td>1</td>\n",
              "      <td>1</td>\n",
              "      <td>...</td>\n",
              "      <td>0</td>\n",
              "      <td>0</td>\n",
              "      <td>0</td>\n",
              "      <td>0</td>\n",
              "      <td>0</td>\n",
              "      <td>1</td>\n",
              "      <td>0</td>\n",
              "      <td>0</td>\n",
              "      <td>0</td>\n",
              "      <td>0</td>\n",
              "    </tr>\n",
              "    <tr>\n",
              "      <th>1</th>\n",
              "      <td>2019-01-01</td>\n",
              "      <td>18</td>\n",
              "      <td>1.0</td>\n",
              "      <td>78917883</td>\n",
              "      <td>1</td>\n",
              "      <td>1</td>\n",
              "      <td>1</td>\n",
              "      <td>1</td>\n",
              "      <td>1</td>\n",
              "      <td>1</td>\n",
              "      <td>...</td>\n",
              "      <td>0</td>\n",
              "      <td>0</td>\n",
              "      <td>0</td>\n",
              "      <td>1</td>\n",
              "      <td>0</td>\n",
              "      <td>0</td>\n",
              "      <td>0</td>\n",
              "      <td>0</td>\n",
              "      <td>0</td>\n",
              "      <td>0</td>\n",
              "    </tr>\n",
              "    <tr>\n",
              "      <th>2</th>\n",
              "      <td>2019-01-01</td>\n",
              "      <td>2</td>\n",
              "      <td>18.0</td>\n",
              "      <td>78917883</td>\n",
              "      <td>1</td>\n",
              "      <td>1</td>\n",
              "      <td>1</td>\n",
              "      <td>1</td>\n",
              "      <td>1</td>\n",
              "      <td>1</td>\n",
              "      <td>...</td>\n",
              "      <td>0</td>\n",
              "      <td>0</td>\n",
              "      <td>0</td>\n",
              "      <td>1</td>\n",
              "      <td>0</td>\n",
              "      <td>0</td>\n",
              "      <td>0</td>\n",
              "      <td>0</td>\n",
              "      <td>0</td>\n",
              "      <td>0</td>\n",
              "    </tr>\n",
              "    <tr>\n",
              "      <th>3</th>\n",
              "      <td>2019-01-01</td>\n",
              "      <td>4</td>\n",
              "      <td>36.0</td>\n",
              "      <td>78917883</td>\n",
              "      <td>1</td>\n",
              "      <td>1</td>\n",
              "      <td>1</td>\n",
              "      <td>1</td>\n",
              "      <td>1</td>\n",
              "      <td>1</td>\n",
              "      <td>...</td>\n",
              "      <td>0</td>\n",
              "      <td>0</td>\n",
              "      <td>0</td>\n",
              "      <td>1</td>\n",
              "      <td>0</td>\n",
              "      <td>0</td>\n",
              "      <td>0</td>\n",
              "      <td>0</td>\n",
              "      <td>0</td>\n",
              "      <td>0</td>\n",
              "    </tr>\n",
              "    <tr>\n",
              "      <th>4</th>\n",
              "      <td>2019-01-01</td>\n",
              "      <td>5</td>\n",
              "      <td>4.0</td>\n",
              "      <td>78917883</td>\n",
              "      <td>1</td>\n",
              "      <td>1</td>\n",
              "      <td>1</td>\n",
              "      <td>1</td>\n",
              "      <td>1</td>\n",
              "      <td>1</td>\n",
              "      <td>...</td>\n",
              "      <td>0</td>\n",
              "      <td>0</td>\n",
              "      <td>0</td>\n",
              "      <td>1</td>\n",
              "      <td>0</td>\n",
              "      <td>0</td>\n",
              "      <td>0</td>\n",
              "      <td>0</td>\n",
              "      <td>0</td>\n",
              "      <td>0</td>\n",
              "    </tr>\n",
              "  </tbody>\n",
              "</table>\n",
              "<p>5 rows × 30 columns</p>\n",
              "</div>\n",
              "      <button class=\"colab-df-convert\" onclick=\"convertToInteractive('df-fb3abe4f-9df8-4ad7-9d82-d121ede4e47e')\"\n",
              "              title=\"Convert this dataframe to an interactive table.\"\n",
              "              style=\"display:none;\">\n",
              "        \n",
              "  <svg xmlns=\"http://www.w3.org/2000/svg\" height=\"24px\"viewBox=\"0 0 24 24\"\n",
              "       width=\"24px\">\n",
              "    <path d=\"M0 0h24v24H0V0z\" fill=\"none\"/>\n",
              "    <path d=\"M18.56 5.44l.94 2.06.94-2.06 2.06-.94-2.06-.94-.94-2.06-.94 2.06-2.06.94zm-11 1L8.5 8.5l.94-2.06 2.06-.94-2.06-.94L8.5 2.5l-.94 2.06-2.06.94zm10 10l.94 2.06.94-2.06 2.06-.94-2.06-.94-.94-2.06-.94 2.06-2.06.94z\"/><path d=\"M17.41 7.96l-1.37-1.37c-.4-.4-.92-.59-1.43-.59-.52 0-1.04.2-1.43.59L10.3 9.45l-7.72 7.72c-.78.78-.78 2.05 0 2.83L4 21.41c.39.39.9.59 1.41.59.51 0 1.02-.2 1.41-.59l7.78-7.78 2.81-2.81c.8-.78.8-2.07 0-2.86zM5.41 20L4 18.59l7.72-7.72 1.47 1.35L5.41 20z\"/>\n",
              "  </svg>\n",
              "      </button>\n",
              "      \n",
              "  <style>\n",
              "    .colab-df-container {\n",
              "      display:flex;\n",
              "      flex-wrap:wrap;\n",
              "      gap: 12px;\n",
              "    }\n",
              "\n",
              "    .colab-df-convert {\n",
              "      background-color: #E8F0FE;\n",
              "      border: none;\n",
              "      border-radius: 50%;\n",
              "      cursor: pointer;\n",
              "      display: none;\n",
              "      fill: #1967D2;\n",
              "      height: 32px;\n",
              "      padding: 0 0 0 0;\n",
              "      width: 32px;\n",
              "    }\n",
              "\n",
              "    .colab-df-convert:hover {\n",
              "      background-color: #E2EBFA;\n",
              "      box-shadow: 0px 1px 2px rgba(60, 64, 67, 0.3), 0px 1px 3px 1px rgba(60, 64, 67, 0.15);\n",
              "      fill: #174EA6;\n",
              "    }\n",
              "\n",
              "    [theme=dark] .colab-df-convert {\n",
              "      background-color: #3B4455;\n",
              "      fill: #D2E3FC;\n",
              "    }\n",
              "\n",
              "    [theme=dark] .colab-df-convert:hover {\n",
              "      background-color: #434B5C;\n",
              "      box-shadow: 0px 1px 3px 1px rgba(0, 0, 0, 0.15);\n",
              "      filter: drop-shadow(0px 1px 2px rgba(0, 0, 0, 0.3));\n",
              "      fill: #FFFFFF;\n",
              "    }\n",
              "  </style>\n",
              "\n",
              "      <script>\n",
              "        const buttonEl =\n",
              "          document.querySelector('#df-fb3abe4f-9df8-4ad7-9d82-d121ede4e47e button.colab-df-convert');\n",
              "        buttonEl.style.display =\n",
              "          google.colab.kernel.accessAllowed ? 'block' : 'none';\n",
              "\n",
              "        async function convertToInteractive(key) {\n",
              "          const element = document.querySelector('#df-fb3abe4f-9df8-4ad7-9d82-d121ede4e47e');\n",
              "          const dataTable =\n",
              "            await google.colab.kernel.invokeFunction('convertToInteractive',\n",
              "                                                     [key], {});\n",
              "          if (!dataTable) return;\n",
              "\n",
              "          const docLinkHtml = 'Like what you see? Visit the ' +\n",
              "            '<a target=\"_blank\" href=https://colab.research.google.com/notebooks/data_table.ipynb>data table notebook</a>'\n",
              "            + ' to learn more about interactive tables.';\n",
              "          element.innerHTML = '';\n",
              "          dataTable['output_type'] = 'display_data';\n",
              "          await google.colab.output.renderOutput(dataTable, element);\n",
              "          const docLink = document.createElement('div');\n",
              "          docLink.innerHTML = docLinkHtml;\n",
              "          element.appendChild(docLink);\n",
              "        }\n",
              "      </script>\n",
              "    </div>\n",
              "  </div>\n",
              "  "
            ]
          },
          "metadata": {},
          "execution_count": 11
        }
      ],
      "source": [
        "with open(path + 'modelData.pk', 'rb') as f:\n",
        "  df = pickle.load(f)\n",
        "df = df.sort_values('DATE1')\n",
        "df = df.reset_index()\n",
        "df.head()"
      ]
    },
    {
      "cell_type": "code",
      "source": [
        "print(\"number of records:\", len(df))"
      ],
      "metadata": {
        "id": "ljJlXw_SzL0X",
        "colab": {
          "base_uri": "https://localhost:8080/"
        },
        "outputId": "6f9944bd-67d3-428c-cd46-3b6302753ee9"
      },
      "execution_count": 12,
      "outputs": [
        {
          "output_type": "stream",
          "name": "stdout",
          "text": [
            "number of records: 4879628\n"
          ]
        }
      ]
    },
    {
      "cell_type": "markdown",
      "metadata": {
        "id": "nJnstCHlh7G4"
      },
      "source": [
        "**Train / Test Split**"
      ]
    },
    {
      "cell_type": "code",
      "source": [
        "train = df.loc[(df['DATE1'] >= '2019-01-01') & (df['DATE1'] < '2022-01-01')] # df.index.get_level_values('DATE1').dayofweek == 0\n",
        "test = df.loc[df['DATE1'] >= '2022-01-01']\n",
        "print(len(train), ' + ', len(test), ' = ',len(df), \", that is :\", f'{len(train)/len(df):0.2%}', ' of data allocated for model training')"
      ],
      "metadata": {
        "colab": {
          "base_uri": "https://localhost:8080/"
        },
        "id": "88GrjqIyWn24",
        "outputId": "35e981d7-f8a7-40fd-8215-d27fd0485002"
      },
      "execution_count": 13,
      "outputs": [
        {
          "output_type": "stream",
          "name": "stdout",
          "text": [
            "3979001  +  900627  =  4879628 , that is : 81.54%  of data allocated for model training\n"
          ]
        }
      ]
    },
    {
      "cell_type": "code",
      "source": [
        "# Use this if DATE1 is defined as index\n",
        "#df.set_index(\"DATE1\", inplace = True)\n",
        "#train = df.loc[df.index.get_level_values('DATE1') < '2022-01-01'] # df.index.get_level_values('DATE1').dayofweek == 0\n",
        "#test = df.loc[df.index.get_level_values('DATE1') >= '2022-01-01']\n",
        "#print(len(train), ' + ', len(test), ' = ',len(df), \", that is :\", f'{len(train)/len(df):0.2%}', ' of data allocated for model training')"
      ],
      "metadata": {
        "id": "D4Hyp49O15Ls"
      },
      "execution_count": null,
      "outputs": []
    },
    {
      "cell_type": "code",
      "source": [
        "fig, ax = plt.subplots(figsize=(25, 5))\n",
        "plt.plot(train['DATE1'], train['QTY'], label='Training Set')\n",
        "plt.plot(test['DATE1'], test['QTY'], label='Test Set')\n",
        "plt.ylabel('Qty')\n",
        "plt.legend(['Training Set', 'Test Set'])\n",
        "plt.axvline(pd.Timestamp('2022-01-01'), color='black', ls='--')\n",
        "plt.show()"
      ],
      "metadata": {
        "colab": {
          "base_uri": "https://localhost:8080/",
          "height": 286
        },
        "id": "AG1sOCbpZSKG",
        "outputId": "5a2bf8fd-dbd7-43b0-bc50-1afc6b004bb7"
      },
      "execution_count": 14,
      "outputs": [
        {
          "output_type": "display_data",
          "data": {
            "text/plain": [
              "<Figure size 1800x360 with 1 Axes>"
            ],
            "image/png": "[encoded data removed]"
          },
          "metadata": {
            "needs_background": "light"
          }
        }
      ]
    },
    {
      "cell_type": "code",
      "source": [
        "fig, ax = plt.subplots(figsize=(25, 5))\n",
        "plt.plot(train['DATE1'], train['QTY'], label='Training Set')\n",
        "plt.plot(test['DATE1'], test['QTY'], label='Test Set')\n",
        "plt.ylabel('Qty')\n",
        "plt.legend(['Training Set', 'Test Set'])\n",
        "plt.axvline(pd.Timestamp('2022-01-01'), color='black', ls='--')\n",
        "plt.show()"
      ],
      "metadata": {
        "id": "v4U_82wW3UlI",
        "outputId": "5eaec7a4-ce9e-427f-e287-b3e87d8da571",
        "colab": {
          "base_uri": "https://localhost:8080/",
          "height": 286
        }
      },
      "execution_count": 15,
      "outputs": [
        {
          "output_type": "display_data",
          "data": {
            "text/plain": [
              "<Figure size 1800x360 with 1 Axes>"
            ],
            "image/png": "[encoded data removed]"
          },
          "metadata": {
            "needs_background": "light"
          }
        }
      ]
    },
    {
      "cell_type": "code",
      "source": [
        "train58 = train.loc[train['SLS_CNTR_ID'] == 58]\n",
        "test58 = test.loc[test['SLS_CNTR_ID'] == 58]\n",
        "fig, ax = plt.subplots(figsize=(25, 5))\n",
        "plt.plot(train58['DATE1'], train58['QTY'], label='Training Set')\n",
        "plt.plot(test58['DATE1'], test58['QTY'], label='Test Set')\n",
        "plt.ylabel('Qty')\n",
        "plt.legend(['Training Set', 'Test Set'])\n",
        "plt.axvline(pd.Timestamp('2022-01-01'), color='black', ls='--')\n",
        "plt.show()"
      ],
      "metadata": {
        "colab": {
          "base_uri": "https://localhost:8080/",
          "height": 287
        },
        "id": "AhXLY-uFX9r4",
        "outputId": "a416aeee-f0c8-4d5a-c23f-c97c49198c99"
      },
      "execution_count": 20,
      "outputs": [
        {
          "output_type": "display_data",
          "data": {
            "text/plain": [
              "<Figure size 1800x360 with 1 Axes>"
            ],
            "image/png": "[encoded data removed]"
          },
          "metadata": {
            "needs_background": "light"
          }
        }
      ]
    },
    {
      "cell_type": "markdown",
      "metadata": {
        "id": "xdir6v3qiprM"
      },
      "source": [
        "**Create the Model**"
      ]
    },
    {
      "cell_type": "code",
      "source": [
        "FEATURES = list(df.columns.values)\n",
        "FEATURES.remove('DATE1')\n",
        "FEATURES.remove('QTY')\n",
        "print(\"number of features:\", len(FEATURES))\n",
        "FEATURES"
      ],
      "metadata": {
        "id": "PJ-AiUbEaF6z",
        "outputId": "12b0d0f2-b853-4919-8235-841c600a52ed",
        "colab": {
          "base_uri": "https://localhost:8080/"
        }
      },
      "execution_count": 16,
      "outputs": [
        {
          "output_type": "stream",
          "name": "stdout",
          "text": [
            "number of features: 28\n"
          ]
        },
        {
          "output_type": "execute_result",
          "data": {
            "text/plain": [
              "['SLS_CNTR_ID',\n",
              " 'hashedSKU',\n",
              " 'dayofyear',\n",
              " 'Monthday',\n",
              " 'Weekday',\n",
              " 'weekofyear',\n",
              " 'month',\n",
              " 'quarter',\n",
              " 'isSalaryweek',\n",
              " 'isWeekend',\n",
              " 'isNationalday',\n",
              " 'isRamadan',\n",
              " 'isRamadanEnd',\n",
              " 'isEid',\n",
              " 'Holiday',\n",
              " 'AcademicCalendarSemester',\n",
              " 'Category_Brand',\n",
              " 'Category_Brand2',\n",
              " 'Category_Cancelled',\n",
              " 'Category_HomeMade',\n",
              " 'Category_HomeMadewithVAT',\n",
              " 'Category_Imported',\n",
              " 'Category_Itproducts',\n",
              " 'Category_Local',\n",
              " 'Category_Packaging',\n",
              " 'Category_Partner',\n",
              " 'Category_RawMaterial',\n",
              " 'Category_SisterCompany']"
            ]
          },
          "metadata": {},
          "execution_count": 16
        }
      ]
    },
    {
      "cell_type": "code",
      "execution_count": 17,
      "metadata": {
        "id": "2Sk4ZPY7jARj"
      },
      "outputs": [],
      "source": [
        "#DataFrame.dtypes for data must be int, float or bool, so we are removing 'ITEM_ID' and 'DATE1'\n",
        "#FEATURES = ['SLS_CNTR_ID', 'isSalaryweek', 'AcademicCalendarSemester', 'isWeekend', 'isRamadan', 'isRamadanEnd', 'isEid', 'isNationalday']\n",
        "TARGET = 'QTY'\n",
        "\n",
        "X_train = train[FEATURES]\n",
        "y_train = train[TARGET]\n",
        "\n",
        "X_test = test[FEATURES]\n",
        "y_test = test[TARGET]"
      ]
    },
    {
      "cell_type": "code",
      "source": [
        "#DataFrame.dtypes for data must be int, float or bool, so we are removing 'ITEM_ID' and 'DATE1'\n",
        "#FEATURES = ['SLS_CNTR_ID', 'isSalaryweek', 'AcademicCalendarSemester', 'isWeekend', 'isRamadan', 'isRamadanEnd', 'isEid', 'isNationalday']\n",
        "TARGET = 'QTY'\n",
        "\n",
        "X_train58 = train58[FEATURES]\n",
        "y_train58 = train58[TARGET]\n",
        "\n",
        "X_test58 = test58[FEATURES]\n",
        "y_test58 = test58[TARGET]"
      ],
      "metadata": {
        "id": "Uxq7T1JJy8Hb"
      },
      "execution_count": 21,
      "outputs": []
    },
    {
      "cell_type": "code",
      "source": [
        "model = xgb.XGBRegressor(base_score=0.05, booster='gbtree', \n",
        "                         min_child_weight=1,\n",
        "                         random_state=5,   \n",
        "                       n_estimators=800,\n",
        "                       early_stopping_rounds=50,\n",
        "                       objective='reg:squarederror',\n",
        "                       max_depth=7,\n",
        "                       learning_rate=0.001)"
      ],
      "metadata": {
        "id": "p0xnlAFsyWR1"
      },
      "execution_count": 28,
      "outputs": []
    },
    {
      "cell_type": "code",
      "source": [
        "model.fit(X_train, y_train,\n",
        "        eval_set=[(X_train, y_train), (X_test, y_test)],\n",
        "        verbose=100)"
      ],
      "metadata": {
        "id": "9RFhhtyTzLxT"
      },
      "execution_count": null,
      "outputs": []
    },
    {
      "cell_type": "code",
      "execution_count": 30,
      "metadata": {
        "id": "zaanp2MajIIa",
        "outputId": "a624f892-321f-4a4d-81e0-a5854c7569f6",
        "colab": {
          "base_uri": "https://localhost:8080/"
        }
      },
      "outputs": [
        {
          "output_type": "stream",
          "name": "stdout",
          "text": [
            "[0]\tvalidation_0-rmse:15.5621\tvalidation_1-rmse:7.01059\n",
            "[1]\tvalidation_0-rmse:15.5533\tvalidation_1-rmse:7.00547\n",
            "[2]\tvalidation_0-rmse:15.5445\tvalidation_1-rmse:7.00035\n",
            "[3]\tvalidation_0-rmse:15.5357\tvalidation_1-rmse:6.99525\n",
            "[4]\tvalidation_0-rmse:15.527\tvalidation_1-rmse:6.99015\n",
            "[5]\tvalidation_0-rmse:15.5182\tvalidation_1-rmse:6.98507\n",
            "[6]\tvalidation_0-rmse:15.5095\tvalidation_1-rmse:6.97999\n",
            "[7]\tvalidation_0-rmse:15.5008\tvalidation_1-rmse:6.97493\n",
            "[8]\tvalidation_0-rmse:15.4921\tvalidation_1-rmse:6.96988\n",
            "[9]\tvalidation_0-rmse:15.4834\tvalidation_1-rmse:6.96484\n",
            "[10]\tvalidation_0-rmse:15.4747\tvalidation_1-rmse:6.95981\n",
            "[11]\tvalidation_0-rmse:15.466\tvalidation_1-rmse:6.95479\n",
            "[12]\tvalidation_0-rmse:15.4574\tvalidation_1-rmse:6.94978\n",
            "[13]\tvalidation_0-rmse:15.4487\tvalidation_1-rmse:6.94479\n",
            "[14]\tvalidation_0-rmse:15.4401\tvalidation_1-rmse:6.9398\n",
            "[15]\tvalidation_0-rmse:15.4315\tvalidation_1-rmse:6.93483\n",
            "[16]\tvalidation_0-rmse:15.4229\tvalidation_1-rmse:6.92986\n",
            "[17]\tvalidation_0-rmse:15.4143\tvalidation_1-rmse:6.92492\n",
            "[18]\tvalidation_0-rmse:15.4057\tvalidation_1-rmse:6.91997\n",
            "[19]\tvalidation_0-rmse:15.3972\tvalidation_1-rmse:6.91504\n",
            "[20]\tvalidation_0-rmse:15.3886\tvalidation_1-rmse:6.91012\n",
            "[21]\tvalidation_0-rmse:15.3801\tvalidation_1-rmse:6.90522\n",
            "[22]\tvalidation_0-rmse:15.3715\tvalidation_1-rmse:6.90031\n",
            "[23]\tvalidation_0-rmse:15.363\tvalidation_1-rmse:6.89543\n",
            "[24]\tvalidation_0-rmse:15.3545\tvalidation_1-rmse:6.89055\n",
            "[25]\tvalidation_0-rmse:15.346\tvalidation_1-rmse:6.88569\n",
            "[26]\tvalidation_0-rmse:15.3375\tvalidation_1-rmse:6.88083\n",
            "[27]\tvalidation_0-rmse:15.329\tvalidation_1-rmse:6.87599\n",
            "[28]\tvalidation_0-rmse:15.3206\tvalidation_1-rmse:6.87116\n",
            "[29]\tvalidation_0-rmse:15.3121\tvalidation_1-rmse:6.86634\n",
            "[30]\tvalidation_0-rmse:15.3037\tvalidation_1-rmse:6.86153\n",
            "[31]\tvalidation_0-rmse:15.2953\tvalidation_1-rmse:6.85664\n",
            "[32]\tvalidation_0-rmse:15.2869\tvalidation_1-rmse:6.85176\n",
            "[33]\tvalidation_0-rmse:15.2785\tvalidation_1-rmse:6.8469\n",
            "[34]\tvalidation_0-rmse:15.2701\tvalidation_1-rmse:6.84213\n",
            "[35]\tvalidation_0-rmse:15.2617\tvalidation_1-rmse:6.83728\n",
            "[36]\tvalidation_0-rmse:15.2533\tvalidation_1-rmse:6.83245\n",
            "[37]\tvalidation_0-rmse:15.245\tvalidation_1-rmse:6.82767\n",
            "[38]\tvalidation_0-rmse:15.2367\tvalidation_1-rmse:6.82281\n",
            "[39]\tvalidation_0-rmse:15.2283\tvalidation_1-rmse:6.81797\n",
            "[40]\tvalidation_0-rmse:15.22\tvalidation_1-rmse:6.81322\n",
            "[41]\tvalidation_0-rmse:15.2117\tvalidation_1-rmse:6.8084\n",
            "[42]\tvalidation_0-rmse:15.2035\tvalidation_1-rmse:6.80358\n",
            "[43]\tvalidation_0-rmse:15.1952\tvalidation_1-rmse:6.79887\n",
            "[44]\tvalidation_0-rmse:15.1869\tvalidation_1-rmse:6.79406\n",
            "[45]\tvalidation_0-rmse:15.1787\tvalidation_1-rmse:6.78929\n",
            "[46]\tvalidation_0-rmse:15.1705\tvalidation_1-rmse:6.78459\n",
            "[47]\tvalidation_0-rmse:15.1622\tvalidation_1-rmse:6.77984\n",
            "[48]\tvalidation_0-rmse:15.154\tvalidation_1-rmse:6.77508\n",
            "[49]\tvalidation_0-rmse:15.1458\tvalidation_1-rmse:6.77035\n",
            "[50]\tvalidation_0-rmse:15.1376\tvalidation_1-rmse:6.7657\n",
            "[51]\tvalidation_0-rmse:15.1295\tvalidation_1-rmse:6.76099\n",
            "[52]\tvalidation_0-rmse:15.1213\tvalidation_1-rmse:6.75627\n",
            "[53]\tvalidation_0-rmse:15.1131\tvalidation_1-rmse:6.75167\n",
            "[54]\tvalidation_0-rmse:15.105\tvalidation_1-rmse:6.74698\n",
            "[55]\tvalidation_0-rmse:15.0969\tvalidation_1-rmse:6.74231\n",
            "[56]\tvalidation_0-rmse:15.0887\tvalidation_1-rmse:6.73772\n",
            "[57]\tvalidation_0-rmse:15.0806\tvalidation_1-rmse:6.73308\n",
            "[58]\tvalidation_0-rmse:15.0725\tvalidation_1-rmse:6.72843\n",
            "[59]\tvalidation_0-rmse:15.0645\tvalidation_1-rmse:6.7239\n",
            "[60]\tvalidation_0-rmse:15.0564\tvalidation_1-rmse:6.71927\n",
            "[61]\tvalidation_0-rmse:15.0483\tvalidation_1-rmse:6.71467\n",
            "[62]\tvalidation_0-rmse:15.0403\tvalidation_1-rmse:6.71015\n",
            "[63]\tvalidation_0-rmse:15.0323\tvalidation_1-rmse:6.70557\n",
            "[64]\tvalidation_0-rmse:15.0242\tvalidation_1-rmse:6.70099\n",
            "[65]\tvalidation_0-rmse:15.0162\tvalidation_1-rmse:6.69643\n",
            "[66]\tvalidation_0-rmse:15.0082\tvalidation_1-rmse:6.69195\n",
            "[67]\tvalidation_0-rmse:15.0002\tvalidation_1-rmse:6.68742\n",
            "[68]\tvalidation_0-rmse:14.9922\tvalidation_1-rmse:6.68288\n",
            "[69]\tvalidation_0-rmse:14.9843\tvalidation_1-rmse:6.67841\n",
            "[70]\tvalidation_0-rmse:14.9763\tvalidation_1-rmse:6.67389\n",
            "[71]\tvalidation_0-rmse:14.9684\tvalidation_1-rmse:6.66937\n",
            "[72]\tvalidation_0-rmse:14.9601\tvalidation_1-rmse:6.66453\n",
            "[73]\tvalidation_0-rmse:14.9518\tvalidation_1-rmse:6.65961\n",
            "[74]\tvalidation_0-rmse:14.9435\tvalidation_1-rmse:6.65472\n",
            "[75]\tvalidation_0-rmse:14.9352\tvalidation_1-rmse:6.6499\n",
            "[76]\tvalidation_0-rmse:14.9269\tvalidation_1-rmse:6.64504\n",
            "[77]\tvalidation_0-rmse:14.9187\tvalidation_1-rmse:6.64017\n",
            "[78]\tvalidation_0-rmse:14.9104\tvalidation_1-rmse:6.6354\n",
            "[79]\tvalidation_0-rmse:14.9022\tvalidation_1-rmse:6.63056\n",
            "[80]\tvalidation_0-rmse:14.894\tvalidation_1-rmse:6.62573\n",
            "[81]\tvalidation_0-rmse:14.8858\tvalidation_1-rmse:6.62099\n",
            "[82]\tvalidation_0-rmse:14.8776\tvalidation_1-rmse:6.61619\n",
            "[83]\tvalidation_0-rmse:14.8694\tvalidation_1-rmse:6.61139\n",
            "[84]\tvalidation_0-rmse:14.8612\tvalidation_1-rmse:6.60661\n",
            "[85]\tvalidation_0-rmse:14.8534\tvalidation_1-rmse:6.60231\n",
            "[86]\tvalidation_0-rmse:14.8453\tvalidation_1-rmse:6.59757\n",
            "[87]\tvalidation_0-rmse:14.8371\tvalidation_1-rmse:6.59281\n",
            "[88]\tvalidation_0-rmse:14.829\tvalidation_1-rmse:6.58818\n",
            "[89]\tvalidation_0-rmse:14.8209\tvalidation_1-rmse:6.58344\n",
            "[90]\tvalidation_0-rmse:14.8128\tvalidation_1-rmse:6.57875\n",
            "[91]\tvalidation_0-rmse:14.8047\tvalidation_1-rmse:6.57411\n",
            "[92]\tvalidation_0-rmse:14.7966\tvalidation_1-rmse:6.56944\n",
            "[93]\tvalidation_0-rmse:14.7885\tvalidation_1-rmse:6.56475\n",
            "[94]\tvalidation_0-rmse:14.7805\tvalidation_1-rmse:6.56018\n",
            "[95]\tvalidation_0-rmse:14.7724\tvalidation_1-rmse:6.55551\n",
            "[96]\tvalidation_0-rmse:14.7644\tvalidation_1-rmse:6.55088\n",
            "[97]\tvalidation_0-rmse:14.7564\tvalidation_1-rmse:6.54631\n",
            "[98]\tvalidation_0-rmse:14.7483\tvalidation_1-rmse:6.54171\n",
            "[99]\tvalidation_0-rmse:14.7403\tvalidation_1-rmse:6.53708\n",
            "[100]\tvalidation_0-rmse:14.7324\tvalidation_1-rmse:6.53257\n",
            "[101]\tvalidation_0-rmse:14.7244\tvalidation_1-rmse:6.52799\n",
            "[102]\tvalidation_0-rmse:14.7164\tvalidation_1-rmse:6.52344\n",
            "[103]\tvalidation_0-rmse:14.7085\tvalidation_1-rmse:6.51887\n",
            "[104]\tvalidation_0-rmse:14.7006\tvalidation_1-rmse:6.51442\n",
            "[105]\tvalidation_0-rmse:14.6927\tvalidation_1-rmse:6.50991\n",
            "[106]\tvalidation_0-rmse:14.6848\tvalidation_1-rmse:6.50537\n",
            "[107]\tvalidation_0-rmse:14.6769\tvalidation_1-rmse:6.50096\n",
            "[108]\tvalidation_0-rmse:14.6693\tvalidation_1-rmse:6.49684\n",
            "[109]\tvalidation_0-rmse:14.6615\tvalidation_1-rmse:6.49236\n",
            "[110]\tvalidation_0-rmse:14.6536\tvalidation_1-rmse:6.48794\n",
            "[111]\tvalidation_0-rmse:14.6458\tvalidation_1-rmse:6.4835\n",
            "[112]\tvalidation_0-rmse:14.6379\tvalidation_1-rmse:6.47901\n",
            "[113]\tvalidation_0-rmse:14.6301\tvalidation_1-rmse:6.47466\n",
            "[114]\tvalidation_0-rmse:14.6223\tvalidation_1-rmse:6.47021\n",
            "[115]\tvalidation_0-rmse:14.6145\tvalidation_1-rmse:6.46581\n",
            "[116]\tvalidation_0-rmse:14.6067\tvalidation_1-rmse:6.46145\n",
            "[117]\tvalidation_0-rmse:14.5989\tvalidation_1-rmse:6.45707\n",
            "[118]\tvalidation_0-rmse:14.5911\tvalidation_1-rmse:6.45266\n",
            "[119]\tvalidation_0-rmse:14.5834\tvalidation_1-rmse:6.44831\n",
            "[120]\tvalidation_0-rmse:14.5756\tvalidation_1-rmse:6.44399\n",
            "[121]\tvalidation_0-rmse:14.5679\tvalidation_1-rmse:6.43965\n",
            "[122]\tvalidation_0-rmse:14.5602\tvalidation_1-rmse:6.43529\n",
            "[123]\tvalidation_0-rmse:14.5524\tvalidation_1-rmse:6.43105\n",
            "[124]\tvalidation_0-rmse:14.5447\tvalidation_1-rmse:6.4267\n",
            "[125]\tvalidation_0-rmse:14.5371\tvalidation_1-rmse:6.42241\n",
            "[126]\tvalidation_0-rmse:14.5294\tvalidation_1-rmse:6.41816\n",
            "[127]\tvalidation_0-rmse:14.5217\tvalidation_1-rmse:6.41389\n",
            "[128]\tvalidation_0-rmse:14.514\tvalidation_1-rmse:6.40959\n",
            "[129]\tvalidation_0-rmse:14.5064\tvalidation_1-rmse:6.40541\n",
            "[130]\tvalidation_0-rmse:14.4988\tvalidation_1-rmse:6.40113\n",
            "[131]\tvalidation_0-rmse:14.4915\tvalidation_1-rmse:6.39727\n",
            "[132]\tvalidation_0-rmse:14.4839\tvalidation_1-rmse:6.39308\n",
            "[133]\tvalidation_0-rmse:14.4763\tvalidation_1-rmse:6.38888\n",
            "[134]\tvalidation_0-rmse:14.4687\tvalidation_1-rmse:6.38464\n",
            "[135]\tvalidation_0-rmse:14.4611\tvalidation_1-rmse:6.38052\n",
            "[136]\tvalidation_0-rmse:14.4535\tvalidation_1-rmse:6.37631\n",
            "[137]\tvalidation_0-rmse:14.446\tvalidation_1-rmse:6.37214\n",
            "[138]\tvalidation_0-rmse:14.4384\tvalidation_1-rmse:6.36796\n",
            "[139]\tvalidation_0-rmse:14.4309\tvalidation_1-rmse:6.3639\n",
            "[140]\tvalidation_0-rmse:14.4234\tvalidation_1-rmse:6.35974\n",
            "[141]\tvalidation_0-rmse:14.4158\tvalidation_1-rmse:6.3556\n",
            "[142]\tvalidation_0-rmse:14.4083\tvalidation_1-rmse:6.35155\n",
            "[143]\tvalidation_0-rmse:14.4008\tvalidation_1-rmse:6.34742\n",
            "[144]\tvalidation_0-rmse:14.3933\tvalidation_1-rmse:6.34333\n",
            "[145]\tvalidation_0-rmse:14.3859\tvalidation_1-rmse:6.3393\n",
            "[146]\tvalidation_0-rmse:14.3784\tvalidation_1-rmse:6.33523\n",
            "[147]\tvalidation_0-rmse:14.371\tvalidation_1-rmse:6.33118\n",
            "[148]\tvalidation_0-rmse:14.3635\tvalidation_1-rmse:6.32716\n",
            "[149]\tvalidation_0-rmse:14.3561\tvalidation_1-rmse:6.32314\n",
            "[150]\tvalidation_0-rmse:14.3487\tvalidation_1-rmse:6.31907\n",
            "[151]\tvalidation_0-rmse:14.3413\tvalidation_1-rmse:6.31514\n",
            "[152]\tvalidation_0-rmse:14.3339\tvalidation_1-rmse:6.3111\n",
            "[153]\tvalidation_0-rmse:14.3265\tvalidation_1-rmse:6.30712\n",
            "[154]\tvalidation_0-rmse:14.3194\tvalidation_1-rmse:6.30352\n",
            "[155]\tvalidation_0-rmse:14.312\tvalidation_1-rmse:6.29958\n",
            "[156]\tvalidation_0-rmse:14.3046\tvalidation_1-rmse:6.29559\n",
            "[157]\tvalidation_0-rmse:14.2972\tvalidation_1-rmse:6.29166\n",
            "[158]\tvalidation_0-rmse:14.2898\tvalidation_1-rmse:6.28775\n",
            "[159]\tvalidation_0-rmse:14.2825\tvalidation_1-rmse:6.28384\n",
            "[160]\tvalidation_0-rmse:14.2752\tvalidation_1-rmse:6.27988\n",
            "[161]\tvalidation_0-rmse:14.2678\tvalidation_1-rmse:6.27604\n",
            "[162]\tvalidation_0-rmse:14.2605\tvalidation_1-rmse:6.27212\n",
            "[163]\tvalidation_0-rmse:14.2532\tvalidation_1-rmse:6.26825\n",
            "[164]\tvalidation_0-rmse:14.2459\tvalidation_1-rmse:6.2644\n",
            "[165]\tvalidation_0-rmse:14.2386\tvalidation_1-rmse:6.26054\n",
            "[166]\tvalidation_0-rmse:14.2313\tvalidation_1-rmse:6.25666\n",
            "[167]\tvalidation_0-rmse:14.224\tvalidation_1-rmse:6.25289\n",
            "[168]\tvalidation_0-rmse:14.2167\tvalidation_1-rmse:6.24902\n",
            "[169]\tvalidation_0-rmse:14.2095\tvalidation_1-rmse:6.24521\n",
            "[170]\tvalidation_0-rmse:14.2023\tvalidation_1-rmse:6.24142\n",
            "[171]\tvalidation_0-rmse:14.1954\tvalidation_1-rmse:6.23801\n",
            "[172]\tvalidation_0-rmse:14.1882\tvalidation_1-rmse:6.23417\n",
            "[173]\tvalidation_0-rmse:14.1809\tvalidation_1-rmse:6.23046\n",
            "[174]\tvalidation_0-rmse:14.1738\tvalidation_1-rmse:6.22665\n",
            "[175]\tvalidation_0-rmse:14.1666\tvalidation_1-rmse:6.2229\n",
            "[176]\tvalidation_0-rmse:14.1594\tvalidation_1-rmse:6.21917\n",
            "[177]\tvalidation_0-rmse:14.1522\tvalidation_1-rmse:6.21544\n",
            "[178]\tvalidation_0-rmse:14.145\tvalidation_1-rmse:6.21169\n",
            "[179]\tvalidation_0-rmse:14.1379\tvalidation_1-rmse:6.20796\n",
            "[180]\tvalidation_0-rmse:14.1308\tvalidation_1-rmse:6.20427\n",
            "[181]\tvalidation_0-rmse:14.1237\tvalidation_1-rmse:6.20059\n",
            "[182]\tvalidation_0-rmse:14.1165\tvalidation_1-rmse:6.19684\n",
            "[183]\tvalidation_0-rmse:14.1094\tvalidation_1-rmse:6.19324\n",
            "[184]\tvalidation_0-rmse:14.1023\tvalidation_1-rmse:6.18954\n",
            "[185]\tvalidation_0-rmse:14.0953\tvalidation_1-rmse:6.18587\n",
            "[186]\tvalidation_0-rmse:14.0882\tvalidation_1-rmse:6.18225\n",
            "[187]\tvalidation_0-rmse:14.0811\tvalidation_1-rmse:6.17861\n",
            "[188]\tvalidation_0-rmse:14.0741\tvalidation_1-rmse:6.17498\n",
            "[189]\tvalidation_0-rmse:14.0671\tvalidation_1-rmse:6.17139\n",
            "[190]\tvalidation_0-rmse:14.0604\tvalidation_1-rmse:6.16818\n",
            "[191]\tvalidation_0-rmse:14.0531\tvalidation_1-rmse:6.16458\n",
            "[192]\tvalidation_0-rmse:14.046\tvalidation_1-rmse:6.16106\n",
            "[193]\tvalidation_0-rmse:14.0388\tvalidation_1-rmse:6.15748\n",
            "[194]\tvalidation_0-rmse:14.0315\tvalidation_1-rmse:6.15396\n",
            "[195]\tvalidation_0-rmse:14.0246\tvalidation_1-rmse:6.15041\n",
            "[196]\tvalidation_0-rmse:14.0173\tvalidation_1-rmse:6.1469\n",
            "[197]\tvalidation_0-rmse:14.0103\tvalidation_1-rmse:6.14334\n",
            "[198]\tvalidation_0-rmse:14.0031\tvalidation_1-rmse:6.13985\n",
            "[199]\tvalidation_0-rmse:13.9962\tvalidation_1-rmse:6.13635\n",
            "[200]\tvalidation_0-rmse:13.989\tvalidation_1-rmse:6.13288\n",
            "[201]\tvalidation_0-rmse:13.9818\tvalidation_1-rmse:6.12938\n",
            "[202]\tvalidation_0-rmse:13.9749\tvalidation_1-rmse:6.12596\n",
            "[203]\tvalidation_0-rmse:13.9677\tvalidation_1-rmse:6.12247\n",
            "[204]\tvalidation_0-rmse:13.9608\tvalidation_1-rmse:6.11904\n",
            "[205]\tvalidation_0-rmse:13.9537\tvalidation_1-rmse:6.1156\n",
            "[206]\tvalidation_0-rmse:13.9468\tvalidation_1-rmse:6.11217\n",
            "[207]\tvalidation_0-rmse:13.9397\tvalidation_1-rmse:6.10872\n",
            "[208]\tvalidation_0-rmse:13.9325\tvalidation_1-rmse:6.10537\n",
            "[209]\tvalidation_0-rmse:13.926\tvalidation_1-rmse:6.1023\n",
            "[210]\tvalidation_0-rmse:13.919\tvalidation_1-rmse:6.09892\n",
            "[211]\tvalidation_0-rmse:13.9121\tvalidation_1-rmse:6.09554\n",
            "[212]\tvalidation_0-rmse:13.9051\tvalidation_1-rmse:6.09218\n",
            "[213]\tvalidation_0-rmse:13.8982\tvalidation_1-rmse:6.08878\n",
            "[214]\tvalidation_0-rmse:13.8912\tvalidation_1-rmse:6.08549\n",
            "[215]\tvalidation_0-rmse:13.8842\tvalidation_1-rmse:6.0821\n",
            "[216]\tvalidation_0-rmse:13.8774\tvalidation_1-rmse:6.07877\n",
            "[217]\tvalidation_0-rmse:13.8704\tvalidation_1-rmse:6.07548\n",
            "[218]\tvalidation_0-rmse:13.8636\tvalidation_1-rmse:6.07216\n",
            "[219]\tvalidation_0-rmse:13.8566\tvalidation_1-rmse:6.06882\n",
            "[220]\tvalidation_0-rmse:13.8496\tvalidation_1-rmse:6.06555\n",
            "[221]\tvalidation_0-rmse:13.8429\tvalidation_1-rmse:6.06224\n",
            "[222]\tvalidation_0-rmse:13.8359\tvalidation_1-rmse:6.05898\n",
            "[223]\tvalidation_0-rmse:13.8292\tvalidation_1-rmse:6.05569\n",
            "[224]\tvalidation_0-rmse:13.8222\tvalidation_1-rmse:6.0525\n",
            "[225]\tvalidation_0-rmse:13.8156\tvalidation_1-rmse:6.04918\n",
            "[226]\tvalidation_0-rmse:13.8086\tvalidation_1-rmse:6.04597\n",
            "[227]\tvalidation_0-rmse:13.802\tvalidation_1-rmse:6.04311\n",
            "[228]\tvalidation_0-rmse:13.7954\tvalidation_1-rmse:6.03988\n",
            "[229]\tvalidation_0-rmse:13.7885\tvalidation_1-rmse:6.03665\n",
            "[230]\tvalidation_0-rmse:13.7819\tvalidation_1-rmse:6.03349\n",
            "[231]\tvalidation_0-rmse:13.775\tvalidation_1-rmse:6.03026\n",
            "[232]\tvalidation_0-rmse:13.7683\tvalidation_1-rmse:6.02709\n",
            "[233]\tvalidation_0-rmse:13.7615\tvalidation_1-rmse:6.02397\n",
            "[234]\tvalidation_0-rmse:13.7546\tvalidation_1-rmse:6.02078\n",
            "[235]\tvalidation_0-rmse:13.748\tvalidation_1-rmse:6.0176\n",
            "[236]\tvalidation_0-rmse:13.7412\tvalidation_1-rmse:6.01451\n",
            "[237]\tvalidation_0-rmse:13.7351\tvalidation_1-rmse:6.01176\n",
            "[238]\tvalidation_0-rmse:13.7287\tvalidation_1-rmse:6.00898\n",
            "[239]\tvalidation_0-rmse:13.7227\tvalidation_1-rmse:6.00624\n",
            "[240]\tvalidation_0-rmse:13.7163\tvalidation_1-rmse:6.00355\n",
            "[241]\tvalidation_0-rmse:13.71\tvalidation_1-rmse:6.00084\n",
            "[242]\tvalidation_0-rmse:13.7039\tvalidation_1-rmse:5.99811\n",
            "[243]\tvalidation_0-rmse:13.6976\tvalidation_1-rmse:5.99548\n",
            "[244]\tvalidation_0-rmse:13.6916\tvalidation_1-rmse:5.99274\n",
            "[245]\tvalidation_0-rmse:13.6852\tvalidation_1-rmse:5.99006\n",
            "[246]\tvalidation_0-rmse:13.6789\tvalidation_1-rmse:5.98741\n",
            "[247]\tvalidation_0-rmse:13.6729\tvalidation_1-rmse:5.98474\n",
            "[248]\tvalidation_0-rmse:13.6666\tvalidation_1-rmse:5.98208\n",
            "[249]\tvalidation_0-rmse:13.6606\tvalidation_1-rmse:5.97947\n",
            "[250]\tvalidation_0-rmse:13.6544\tvalidation_1-rmse:5.97682\n",
            "[251]\tvalidation_0-rmse:13.648\tvalidation_1-rmse:5.97379\n",
            "[252]\tvalidation_0-rmse:13.6417\tvalidation_1-rmse:5.97119\n",
            "[253]\tvalidation_0-rmse:13.6355\tvalidation_1-rmse:5.9686\n",
            "[254]\tvalidation_0-rmse:13.6295\tvalidation_1-rmse:5.96595\n",
            "[255]\tvalidation_0-rmse:13.6234\tvalidation_1-rmse:5.96341\n",
            "[256]\tvalidation_0-rmse:13.6174\tvalidation_1-rmse:5.9608\n",
            "[257]\tvalidation_0-rmse:13.6112\tvalidation_1-rmse:5.95824\n",
            "[258]\tvalidation_0-rmse:13.6053\tvalidation_1-rmse:5.95567\n",
            "[259]\tvalidation_0-rmse:13.5991\tvalidation_1-rmse:5.95314\n",
            "[260]\tvalidation_0-rmse:13.593\tvalidation_1-rmse:5.95056\n",
            "[261]\tvalidation_0-rmse:13.5871\tvalidation_1-rmse:5.94804\n",
            "[262]\tvalidation_0-rmse:13.5809\tvalidation_1-rmse:5.94552\n",
            "[263]\tvalidation_0-rmse:13.5751\tvalidation_1-rmse:5.94301\n",
            "[264]\tvalidation_0-rmse:13.569\tvalidation_1-rmse:5.94045\n",
            "[265]\tvalidation_0-rmse:13.5631\tvalidation_1-rmse:5.938\n",
            "[266]\tvalidation_0-rmse:13.557\tvalidation_1-rmse:5.93549\n",
            "[267]\tvalidation_0-rmse:13.5509\tvalidation_1-rmse:5.93301\n",
            "[268]\tvalidation_0-rmse:13.545\tvalidation_1-rmse:5.93053\n",
            "[269]\tvalidation_0-rmse:13.539\tvalidation_1-rmse:5.92806\n",
            "[270]\tvalidation_0-rmse:13.5332\tvalidation_1-rmse:5.92558\n",
            "[271]\tvalidation_0-rmse:13.5271\tvalidation_1-rmse:5.92315\n",
            "[272]\tvalidation_0-rmse:13.5213\tvalidation_1-rmse:5.9207\n",
            "[273]\tvalidation_0-rmse:13.5153\tvalidation_1-rmse:5.91829\n",
            "[274]\tvalidation_0-rmse:13.5092\tvalidation_1-rmse:5.91586\n",
            "[275]\tvalidation_0-rmse:13.5035\tvalidation_1-rmse:5.91345\n",
            "[276]\tvalidation_0-rmse:13.4975\tvalidation_1-rmse:5.91103\n",
            "[277]\tvalidation_0-rmse:13.4917\tvalidation_1-rmse:5.90865\n",
            "[278]\tvalidation_0-rmse:13.4857\tvalidation_1-rmse:5.90624\n",
            "[279]\tvalidation_0-rmse:13.4797\tvalidation_1-rmse:5.90388\n",
            "[280]\tvalidation_0-rmse:13.474\tvalidation_1-rmse:5.90146\n",
            "[281]\tvalidation_0-rmse:13.468\tvalidation_1-rmse:5.89914\n",
            "[282]\tvalidation_0-rmse:13.4623\tvalidation_1-rmse:5.89675\n",
            "[283]\tvalidation_0-rmse:13.4564\tvalidation_1-rmse:5.89443\n",
            "[284]\tvalidation_0-rmse:13.4507\tvalidation_1-rmse:5.89207\n",
            "[285]\tvalidation_0-rmse:13.4448\tvalidation_1-rmse:5.88976\n",
            "[286]\tvalidation_0-rmse:13.4388\tvalidation_1-rmse:5.88742\n",
            "[287]\tvalidation_0-rmse:13.4332\tvalidation_1-rmse:5.88511\n",
            "[288]\tvalidation_0-rmse:13.4273\tvalidation_1-rmse:5.88279\n",
            "[289]\tvalidation_0-rmse:13.4216\tvalidation_1-rmse:5.88051\n",
            "[290]\tvalidation_0-rmse:13.4158\tvalidation_1-rmse:5.87821\n",
            "[291]\tvalidation_0-rmse:13.4101\tvalidation_1-rmse:5.87592\n",
            "[292]\tvalidation_0-rmse:13.4042\tvalidation_1-rmse:5.87363\n",
            "[293]\tvalidation_0-rmse:13.3983\tvalidation_1-rmse:5.87138\n",
            "[294]\tvalidation_0-rmse:13.3927\tvalidation_1-rmse:5.86912\n",
            "[295]\tvalidation_0-rmse:13.3869\tvalidation_1-rmse:5.86688\n",
            "[296]\tvalidation_0-rmse:13.3813\tvalidation_1-rmse:5.8646\n",
            "[297]\tvalidation_0-rmse:13.3755\tvalidation_1-rmse:5.8624\n",
            "[298]\tvalidation_0-rmse:13.3699\tvalidation_1-rmse:5.86017\n",
            "[299]\tvalidation_0-rmse:13.3641\tvalidation_1-rmse:5.85795\n",
            "[300]\tvalidation_0-rmse:13.3583\tvalidation_1-rmse:5.85575\n",
            "[301]\tvalidation_0-rmse:13.3528\tvalidation_1-rmse:5.85353\n",
            "[302]\tvalidation_0-rmse:13.347\tvalidation_1-rmse:5.85134\n",
            "[303]\tvalidation_0-rmse:13.3415\tvalidation_1-rmse:5.84919\n",
            "[304]\tvalidation_0-rmse:13.3357\tvalidation_1-rmse:5.84699\n",
            "[305]\tvalidation_0-rmse:13.3302\tvalidation_1-rmse:5.84481\n",
            "[306]\tvalidation_0-rmse:13.3244\tvalidation_1-rmse:5.84267\n",
            "[307]\tvalidation_0-rmse:13.3187\tvalidation_1-rmse:5.84051\n",
            "[308]\tvalidation_0-rmse:13.3132\tvalidation_1-rmse:5.83838\n",
            "[309]\tvalidation_0-rmse:13.3075\tvalidation_1-rmse:5.83628\n",
            "[310]\tvalidation_0-rmse:13.302\tvalidation_1-rmse:5.83412\n",
            "[311]\tvalidation_0-rmse:13.2963\tvalidation_1-rmse:5.83201\n",
            "[312]\tvalidation_0-rmse:13.2906\tvalidation_1-rmse:5.82992\n",
            "[313]\tvalidation_0-rmse:13.2851\tvalidation_1-rmse:5.82781\n",
            "[314]\tvalidation_0-rmse:13.2795\tvalidation_1-rmse:5.82571\n",
            "[315]\tvalidation_0-rmse:13.274\tvalidation_1-rmse:5.82363\n",
            "[316]\tvalidation_0-rmse:13.2683\tvalidation_1-rmse:5.82158\n",
            "[317]\tvalidation_0-rmse:13.263\tvalidation_1-rmse:5.81949\n",
            "[318]\tvalidation_0-rmse:13.2573\tvalidation_1-rmse:5.81745\n",
            "[319]\tvalidation_0-rmse:13.2517\tvalidation_1-rmse:5.8154\n",
            "[320]\tvalidation_0-rmse:13.2463\tvalidation_1-rmse:5.81336\n",
            "[321]\tvalidation_0-rmse:13.2406\tvalidation_1-rmse:5.81133\n",
            "[322]\tvalidation_0-rmse:13.2353\tvalidation_1-rmse:5.80938\n",
            "[323]\tvalidation_0-rmse:13.2297\tvalidation_1-rmse:5.80737\n",
            "[324]\tvalidation_0-rmse:13.2243\tvalidation_1-rmse:5.80534\n",
            "[325]\tvalidation_0-rmse:13.2187\tvalidation_1-rmse:5.80335\n",
            "[326]\tvalidation_0-rmse:13.2131\tvalidation_1-rmse:5.80141\n",
            "[327]\tvalidation_0-rmse:13.2078\tvalidation_1-rmse:5.79945\n",
            "[328]\tvalidation_0-rmse:13.2022\tvalidation_1-rmse:5.79749\n",
            "[329]\tvalidation_0-rmse:13.1964\tvalidation_1-rmse:5.79513\n",
            "[330]\tvalidation_0-rmse:13.1909\tvalidation_1-rmse:5.79319\n",
            "[331]\tvalidation_0-rmse:13.1851\tvalidation_1-rmse:5.79079\n",
            "[332]\tvalidation_0-rmse:13.1791\tvalidation_1-rmse:5.78849\n",
            "[333]\tvalidation_0-rmse:13.1735\tvalidation_1-rmse:5.78654\n",
            "[334]\tvalidation_0-rmse:13.1678\tvalidation_1-rmse:5.78417\n",
            "[335]\tvalidation_0-rmse:13.1623\tvalidation_1-rmse:5.7823\n",
            "[336]\tvalidation_0-rmse:13.157\tvalidation_1-rmse:5.78038\n",
            "[337]\tvalidation_0-rmse:13.151\tvalidation_1-rmse:5.77805\n",
            "[338]\tvalidation_0-rmse:13.1458\tvalidation_1-rmse:5.77614\n",
            "[339]\tvalidation_0-rmse:13.1398\tvalidation_1-rmse:5.7738\n",
            "[340]\tvalidation_0-rmse:13.1339\tvalidation_1-rmse:5.77156\n",
            "[341]\tvalidation_0-rmse:13.1286\tvalidation_1-rmse:5.76968\n",
            "[342]\tvalidation_0-rmse:13.1232\tvalidation_1-rmse:5.76781\n",
            "[343]\tvalidation_0-rmse:13.1175\tvalidation_1-rmse:5.76555\n",
            "[344]\tvalidation_0-rmse:13.112\tvalidation_1-rmse:5.76369\n",
            "[345]\tvalidation_0-rmse:13.1063\tvalidation_1-rmse:5.76141\n",
            "[346]\tvalidation_0-rmse:13.1005\tvalidation_1-rmse:5.75918\n",
            "[347]\tvalidation_0-rmse:13.095\tvalidation_1-rmse:5.75733\n",
            "[348]\tvalidation_0-rmse:13.0894\tvalidation_1-rmse:5.75509\n",
            "[349]\tvalidation_0-rmse:13.0839\tvalidation_1-rmse:5.75332\n",
            "[350]\tvalidation_0-rmse:13.0788\tvalidation_1-rmse:5.7515\n",
            "[351]\tvalidation_0-rmse:13.0729\tvalidation_1-rmse:5.74927\n",
            "[352]\tvalidation_0-rmse:13.0676\tvalidation_1-rmse:5.74752\n",
            "[353]\tvalidation_0-rmse:13.0619\tvalidation_1-rmse:5.74528\n",
            "[354]\tvalidation_0-rmse:13.0561\tvalidation_1-rmse:5.74309\n",
            "[355]\tvalidation_0-rmse:13.051\tvalidation_1-rmse:5.74128\n",
            "[356]\tvalidation_0-rmse:13.0456\tvalidation_1-rmse:5.73952\n",
            "[357]\tvalidation_0-rmse:13.04\tvalidation_1-rmse:5.73738\n",
            "[358]\tvalidation_0-rmse:13.0347\tvalidation_1-rmse:5.7356\n",
            "[359]\tvalidation_0-rmse:13.0289\tvalidation_1-rmse:5.73343\n",
            "[360]\tvalidation_0-rmse:13.0233\tvalidation_1-rmse:5.73134\n",
            "[361]\tvalidation_0-rmse:13.018\tvalidation_1-rmse:5.72959\n",
            "[362]\tvalidation_0-rmse:13.0125\tvalidation_1-rmse:5.72747\n",
            "[363]\tvalidation_0-rmse:13.0072\tvalidation_1-rmse:5.72578\n",
            "[364]\tvalidation_0-rmse:13.0022\tvalidation_1-rmse:5.72401\n",
            "[365]\tvalidation_0-rmse:12.9964\tvalidation_1-rmse:5.72191\n",
            "[366]\tvalidation_0-rmse:12.9907\tvalidation_1-rmse:5.71978\n",
            "[367]\tvalidation_0-rmse:12.9856\tvalidation_1-rmse:5.7181\n",
            "[368]\tvalidation_0-rmse:12.9799\tvalidation_1-rmse:5.71601\n",
            "[369]\tvalidation_0-rmse:12.9749\tvalidation_1-rmse:5.71434\n",
            "[370]\tvalidation_0-rmse:12.9696\tvalidation_1-rmse:5.71268\n",
            "[371]\tvalidation_0-rmse:12.9642\tvalidation_1-rmse:5.71062\n",
            "[372]\tvalidation_0-rmse:12.9589\tvalidation_1-rmse:5.70894\n",
            "[373]\tvalidation_0-rmse:12.9533\tvalidation_1-rmse:5.70695\n",
            "[374]\tvalidation_0-rmse:12.9478\tvalidation_1-rmse:5.70489\n",
            "[375]\tvalidation_0-rmse:12.9426\tvalidation_1-rmse:5.70324\n",
            "[376]\tvalidation_0-rmse:12.9372\tvalidation_1-rmse:5.70122\n",
            "[377]\tvalidation_0-rmse:12.932\tvalidation_1-rmse:5.69964\n",
            "[378]\tvalidation_0-rmse:12.9271\tvalidation_1-rmse:5.69805\n",
            "[379]\tvalidation_0-rmse:12.9214\tvalidation_1-rmse:5.69605\n",
            "[380]\tvalidation_0-rmse:12.9158\tvalidation_1-rmse:5.69404\n",
            "[381]\tvalidation_0-rmse:12.9109\tvalidation_1-rmse:5.69245\n",
            "[382]\tvalidation_0-rmse:12.9053\tvalidation_1-rmse:5.69043\n",
            "[383]\tvalidation_0-rmse:12.9003\tvalidation_1-rmse:5.68893\n",
            "[384]\tvalidation_0-rmse:12.8952\tvalidation_1-rmse:5.68734\n",
            "[385]\tvalidation_0-rmse:12.8898\tvalidation_1-rmse:5.68537\n",
            "[386]\tvalidation_0-rmse:12.8843\tvalidation_1-rmse:5.68338\n",
            "[387]\tvalidation_0-rmse:12.8792\tvalidation_1-rmse:5.68184\n",
            "[388]\tvalidation_0-rmse:12.8738\tvalidation_1-rmse:5.67994\n",
            "[389]\tvalidation_0-rmse:12.8688\tvalidation_1-rmse:5.67837\n",
            "[390]\tvalidation_0-rmse:12.8635\tvalidation_1-rmse:5.67639\n",
            "[391]\tvalidation_0-rmse:12.8584\tvalidation_1-rmse:5.67487\n",
            "[392]\tvalidation_0-rmse:12.8535\tvalidation_1-rmse:5.6733\n",
            "[393]\tvalidation_0-rmse:12.848\tvalidation_1-rmse:5.67146\n",
            "[394]\tvalidation_0-rmse:12.8425\tvalidation_1-rmse:5.66955\n",
            "[395]\tvalidation_0-rmse:12.8377\tvalidation_1-rmse:5.66805\n",
            "[396]\tvalidation_0-rmse:12.8322\tvalidation_1-rmse:5.66614\n",
            "[397]\tvalidation_0-rmse:12.8274\tvalidation_1-rmse:5.66473\n",
            "[398]\tvalidation_0-rmse:12.8224\tvalidation_1-rmse:5.6632\n",
            "[399]\tvalidation_0-rmse:12.8169\tvalidation_1-rmse:5.66133\n",
            "[400]\tvalidation_0-rmse:12.8116\tvalidation_1-rmse:5.65951\n",
            "[401]\tvalidation_0-rmse:12.8066\tvalidation_1-rmse:5.65804\n",
            "[402]\tvalidation_0-rmse:12.8014\tvalidation_1-rmse:5.65619\n",
            "[403]\tvalidation_0-rmse:12.7964\tvalidation_1-rmse:5.65475\n",
            "[404]\tvalidation_0-rmse:12.7912\tvalidation_1-rmse:5.65291\n",
            "[405]\tvalidation_0-rmse:12.7862\tvalidation_1-rmse:5.6515\n",
            "[406]\tvalidation_0-rmse:12.7813\tvalidation_1-rmse:5.65006\n",
            "[407]\tvalidation_0-rmse:12.7761\tvalidation_1-rmse:5.64826\n",
            "[408]\tvalidation_0-rmse:12.7707\tvalidation_1-rmse:5.64644\n",
            "[409]\tvalidation_0-rmse:12.766\tvalidation_1-rmse:5.64506\n",
            "[410]\tvalidation_0-rmse:12.7606\tvalidation_1-rmse:5.64326\n",
            "[411]\tvalidation_0-rmse:12.7559\tvalidation_1-rmse:5.64188\n",
            "[412]\tvalidation_0-rmse:12.751\tvalidation_1-rmse:5.64042\n",
            "[413]\tvalidation_0-rmse:12.7456\tvalidation_1-rmse:5.63864\n",
            "[414]\tvalidation_0-rmse:12.7404\tvalidation_1-rmse:5.63682\n",
            "[415]\tvalidation_0-rmse:12.7355\tvalidation_1-rmse:5.63541\n",
            "[416]\tvalidation_0-rmse:12.7304\tvalidation_1-rmse:5.63364\n",
            "[417]\tvalidation_0-rmse:12.7255\tvalidation_1-rmse:5.63226\n",
            "[418]\tvalidation_0-rmse:12.7204\tvalidation_1-rmse:5.63047\n",
            "[419]\tvalidation_0-rmse:12.7151\tvalidation_1-rmse:5.62872\n",
            "[420]\tvalidation_0-rmse:12.7102\tvalidation_1-rmse:5.62737\n",
            "[421]\tvalidation_0-rmse:12.7056\tvalidation_1-rmse:5.62601\n",
            "[422]\tvalidation_0-rmse:12.7003\tvalidation_1-rmse:5.62428\n",
            "[423]\tvalidation_0-rmse:12.6956\tvalidation_1-rmse:5.62289\n",
            "[424]\tvalidation_0-rmse:12.6904\tvalidation_1-rmse:5.62118\n",
            "[425]\tvalidation_0-rmse:12.6857\tvalidation_1-rmse:5.61986\n",
            "[426]\tvalidation_0-rmse:12.6809\tvalidation_1-rmse:5.61854\n",
            "[427]\tvalidation_0-rmse:12.6757\tvalidation_1-rmse:5.61684\n",
            "[428]\tvalidation_0-rmse:12.6706\tvalidation_1-rmse:5.61513\n",
            "[429]\tvalidation_0-rmse:12.6658\tvalidation_1-rmse:5.61378\n",
            "[430]\tvalidation_0-rmse:12.6608\tvalidation_1-rmse:5.6121\n",
            "[431]\tvalidation_0-rmse:12.656\tvalidation_1-rmse:5.61081\n",
            "[432]\tvalidation_0-rmse:12.651\tvalidation_1-rmse:5.60912\n",
            "[433]\tvalidation_0-rmse:12.6458\tvalidation_1-rmse:5.60744\n",
            "[434]\tvalidation_0-rmse:12.641\tvalidation_1-rmse:5.60619\n",
            "[435]\tvalidation_0-rmse:12.6365\tvalidation_1-rmse:5.60492\n",
            "[436]\tvalidation_0-rmse:12.6313\tvalidation_1-rmse:5.60327\n",
            "[437]\tvalidation_0-rmse:12.6268\tvalidation_1-rmse:5.60202\n",
            "[438]\tvalidation_0-rmse:12.6216\tvalidation_1-rmse:5.60037\n",
            "[439]\tvalidation_0-rmse:12.6166\tvalidation_1-rmse:5.59872\n",
            "[440]\tvalidation_0-rmse:12.6119\tvalidation_1-rmse:5.59752\n",
            "[441]\tvalidation_0-rmse:12.6067\tvalidation_1-rmse:5.59587\n",
            "[442]\tvalidation_0-rmse:12.6023\tvalidation_1-rmse:5.59467\n",
            "[443]\tvalidation_0-rmse:12.5976\tvalidation_1-rmse:5.59347\n",
            "[444]\tvalidation_0-rmse:12.5927\tvalidation_1-rmse:5.59183\n",
            "[445]\tvalidation_0-rmse:12.588\tvalidation_1-rmse:5.59065\n",
            "[446]\tvalidation_0-rmse:12.5831\tvalidation_1-rmse:5.58902\n",
            "[447]\tvalidation_0-rmse:12.578\tvalidation_1-rmse:5.58743\n",
            "[448]\tvalidation_0-rmse:12.5735\tvalidation_1-rmse:5.58629\n",
            "[449]\tvalidation_0-rmse:12.5689\tvalidation_1-rmse:5.5851\n",
            "[450]\tvalidation_0-rmse:12.564\tvalidation_1-rmse:5.5835\n",
            "[451]\tvalidation_0-rmse:12.5593\tvalidation_1-rmse:5.58233\n",
            "[452]\tvalidation_0-rmse:12.5545\tvalidation_1-rmse:5.58078\n",
            "[453]\tvalidation_0-rmse:12.5496\tvalidation_1-rmse:5.57918\n",
            "[454]\tvalidation_0-rmse:12.545\tvalidation_1-rmse:5.57806\n",
            "[455]\tvalidation_0-rmse:12.5399\tvalidation_1-rmse:5.57655\n",
            "[456]\tvalidation_0-rmse:12.5356\tvalidation_1-rmse:5.57541\n",
            "[457]\tvalidation_0-rmse:12.5309\tvalidation_1-rmse:5.57426\n",
            "[458]\tvalidation_0-rmse:12.5261\tvalidation_1-rmse:5.57276\n",
            "[459]\tvalidation_0-rmse:12.5213\tvalidation_1-rmse:5.57123\n",
            "[460]\tvalidation_0-rmse:12.5167\tvalidation_1-rmse:5.5701\n",
            "[461]\tvalidation_0-rmse:12.5117\tvalidation_1-rmse:5.5686\n",
            "[462]\tvalidation_0-rmse:12.5074\tvalidation_1-rmse:5.56748\n",
            "[463]\tvalidation_0-rmse:12.503\tvalidation_1-rmse:5.56642\n",
            "[464]\tvalidation_0-rmse:12.498\tvalidation_1-rmse:5.56497\n",
            "[465]\tvalidation_0-rmse:12.4937\tvalidation_1-rmse:5.56384\n",
            "[466]\tvalidation_0-rmse:12.4887\tvalidation_1-rmse:5.56235\n",
            "[467]\tvalidation_0-rmse:12.4839\tvalidation_1-rmse:5.56095\n",
            "[468]\tvalidation_0-rmse:12.4794\tvalidation_1-rmse:5.55989\n",
            "[469]\tvalidation_0-rmse:12.4747\tvalidation_1-rmse:5.55841\n",
            "[470]\tvalidation_0-rmse:12.4702\tvalidation_1-rmse:5.55734\n",
            "[471]\tvalidation_0-rmse:12.4659\tvalidation_1-rmse:5.55627\n",
            "[472]\tvalidation_0-rmse:12.461\tvalidation_1-rmse:5.55485\n",
            "[473]\tvalidation_0-rmse:12.4562\tvalidation_1-rmse:5.55343\n",
            "[474]\tvalidation_0-rmse:12.4518\tvalidation_1-rmse:5.55243\n",
            "[475]\tvalidation_0-rmse:12.4471\tvalidation_1-rmse:5.55097\n",
            "[476]\tvalidation_0-rmse:12.4426\tvalidation_1-rmse:5.54996\n",
            "[477]\tvalidation_0-rmse:12.4382\tvalidation_1-rmse:5.54888\n",
            "[478]\tvalidation_0-rmse:12.4335\tvalidation_1-rmse:5.54741\n",
            "[479]\tvalidation_0-rmse:12.4286\tvalidation_1-rmse:5.54604\n",
            "[480]\tvalidation_0-rmse:12.4242\tvalidation_1-rmse:5.54505\n",
            "[481]\tvalidation_0-rmse:12.4196\tvalidation_1-rmse:5.54368\n",
            "[482]\tvalidation_0-rmse:12.4153\tvalidation_1-rmse:5.5427\n",
            "[483]\tvalidation_0-rmse:12.4109\tvalidation_1-rmse:5.54173\n",
            "[484]\tvalidation_0-rmse:12.4063\tvalidation_1-rmse:5.54028\n",
            "[485]\tvalidation_0-rmse:12.4018\tvalidation_1-rmse:5.53935\n",
            "[486]\tvalidation_0-rmse:12.3972\tvalidation_1-rmse:5.53802\n",
            "[487]\tvalidation_0-rmse:12.3924\tvalidation_1-rmse:5.53665\n",
            "[488]\tvalidation_0-rmse:12.3882\tvalidation_1-rmse:5.53564\n",
            "[489]\tvalidation_0-rmse:12.3834\tvalidation_1-rmse:5.53433\n",
            "[490]\tvalidation_0-rmse:12.3792\tvalidation_1-rmse:5.53335\n",
            "[491]\tvalidation_0-rmse:12.3749\tvalidation_1-rmse:5.53239\n",
            "[492]\tvalidation_0-rmse:12.3703\tvalidation_1-rmse:5.53104\n",
            "[493]\tvalidation_0-rmse:12.3655\tvalidation_1-rmse:5.52979\n",
            "[494]\tvalidation_0-rmse:12.3614\tvalidation_1-rmse:5.52883\n",
            "[495]\tvalidation_0-rmse:12.3566\tvalidation_1-rmse:5.52758\n",
            "[496]\tvalidation_0-rmse:12.3524\tvalidation_1-rmse:5.52671\n",
            "[497]\tvalidation_0-rmse:12.3483\tvalidation_1-rmse:5.52575\n",
            "[498]\tvalidation_0-rmse:12.3436\tvalidation_1-rmse:5.52444\n",
            "[499]\tvalidation_0-rmse:12.3392\tvalidation_1-rmse:5.52358\n",
            "[500]\tvalidation_0-rmse:12.3347\tvalidation_1-rmse:5.52222\n",
            "[501]\tvalidation_0-rmse:12.33\tvalidation_1-rmse:5.52097\n",
            "[502]\tvalidation_0-rmse:12.3259\tvalidation_1-rmse:5.52012\n",
            "[503]\tvalidation_0-rmse:12.3214\tvalidation_1-rmse:5.51879\n",
            "[504]\tvalidation_0-rmse:12.3171\tvalidation_1-rmse:5.51793\n",
            "[505]\tvalidation_0-rmse:12.313\tvalidation_1-rmse:5.51706\n",
            "[506]\tvalidation_0-rmse:12.3083\tvalidation_1-rmse:5.51581\n",
            "[507]\tvalidation_0-rmse:12.3039\tvalidation_1-rmse:5.51457\n",
            "[508]\tvalidation_0-rmse:12.2996\tvalidation_1-rmse:5.51371\n",
            "[509]\tvalidation_0-rmse:12.2951\tvalidation_1-rmse:5.5124\n",
            "[510]\tvalidation_0-rmse:12.2909\tvalidation_1-rmse:5.51162\n",
            "[511]\tvalidation_0-rmse:12.2868\tvalidation_1-rmse:5.51078\n",
            "[512]\tvalidation_0-rmse:12.2822\tvalidation_1-rmse:5.50955\n",
            "[513]\tvalidation_0-rmse:12.2777\tvalidation_1-rmse:5.5083\n",
            "[514]\tvalidation_0-rmse:12.2735\tvalidation_1-rmse:5.50747\n",
            "[515]\tvalidation_0-rmse:12.2691\tvalidation_1-rmse:5.50624\n",
            "[516]\tvalidation_0-rmse:12.2648\tvalidation_1-rmse:5.50544\n",
            "[517]\tvalidation_0-rmse:12.2605\tvalidation_1-rmse:5.50427\n",
            "[518]\tvalidation_0-rmse:12.2562\tvalidation_1-rmse:5.5035\n",
            "[519]\tvalidation_0-rmse:12.2523\tvalidation_1-rmse:5.5026\n",
            "[520]\tvalidation_0-rmse:12.2477\tvalidation_1-rmse:5.50144\n",
            "[521]\tvalidation_0-rmse:12.2433\tvalidation_1-rmse:5.5003\n",
            "[522]\tvalidation_0-rmse:12.2393\tvalidation_1-rmse:5.49949\n",
            "[523]\tvalidation_0-rmse:12.2347\tvalidation_1-rmse:5.49841\n",
            "[524]\tvalidation_0-rmse:12.2308\tvalidation_1-rmse:5.49767\n",
            "[525]\tvalidation_0-rmse:12.2268\tvalidation_1-rmse:5.49684\n",
            "[526]\tvalidation_0-rmse:12.2225\tvalidation_1-rmse:5.49568\n",
            "[527]\tvalidation_0-rmse:12.2179\tvalidation_1-rmse:5.49456\n",
            "[528]\tvalidation_0-rmse:12.214\tvalidation_1-rmse:5.49383\n",
            "[529]\tvalidation_0-rmse:12.2096\tvalidation_1-rmse:5.49266\n",
            "[530]\tvalidation_0-rmse:12.2055\tvalidation_1-rmse:5.49191\n",
            "[531]\tvalidation_0-rmse:12.201\tvalidation_1-rmse:5.49085\n",
            "[532]\tvalidation_0-rmse:12.1967\tvalidation_1-rmse:5.4897\n",
            "[533]\tvalidation_0-rmse:12.1926\tvalidation_1-rmse:5.48899\n",
            "[534]\tvalidation_0-rmse:12.1887\tvalidation_1-rmse:5.48826\n",
            "[535]\tvalidation_0-rmse:12.1844\tvalidation_1-rmse:5.48713\n",
            "[536]\tvalidation_0-rmse:12.1803\tvalidation_1-rmse:5.48642\n",
            "[537]\tvalidation_0-rmse:12.176\tvalidation_1-rmse:5.48533\n",
            "[538]\tvalidation_0-rmse:12.1721\tvalidation_1-rmse:5.48467\n",
            "[539]\tvalidation_0-rmse:12.1683\tvalidation_1-rmse:5.48392\n",
            "[540]\tvalidation_0-rmse:12.1638\tvalidation_1-rmse:5.48291\n",
            "[541]\tvalidation_0-rmse:12.1595\tvalidation_1-rmse:5.48186\n",
            "[542]\tvalidation_0-rmse:12.1555\tvalidation_1-rmse:5.48122\n",
            "[543]\tvalidation_0-rmse:12.1512\tvalidation_1-rmse:5.48014\n",
            "[544]\tvalidation_0-rmse:12.1472\tvalidation_1-rmse:5.4795\n",
            "[545]\tvalidation_0-rmse:12.1429\tvalidation_1-rmse:5.47845\n",
            "[546]\tvalidation_0-rmse:12.1388\tvalidation_1-rmse:5.47771\n",
            "[547]\tvalidation_0-rmse:12.1345\tvalidation_1-rmse:5.47671\n",
            "[548]\tvalidation_0-rmse:12.1307\tvalidation_1-rmse:5.47606\n",
            "[549]\tvalidation_0-rmse:12.1265\tvalidation_1-rmse:5.47499\n",
            "[550]\tvalidation_0-rmse:12.1227\tvalidation_1-rmse:5.47443\n",
            "[551]\tvalidation_0-rmse:12.1187\tvalidation_1-rmse:5.47379\n",
            "[552]\tvalidation_0-rmse:12.1145\tvalidation_1-rmse:5.47278\n",
            "[553]\tvalidation_0-rmse:12.1101\tvalidation_1-rmse:5.47177\n",
            "[554]\tvalidation_0-rmse:12.1063\tvalidation_1-rmse:5.4712\n",
            "[555]\tvalidation_0-rmse:12.1019\tvalidation_1-rmse:5.47023\n",
            "[556]\tvalidation_0-rmse:12.0981\tvalidation_1-rmse:5.46961\n",
            "[557]\tvalidation_0-rmse:12.0938\tvalidation_1-rmse:5.46862\n",
            "[558]\tvalidation_0-rmse:12.09\tvalidation_1-rmse:5.46804\n",
            "[559]\tvalidation_0-rmse:12.0863\tvalidation_1-rmse:5.46747\n",
            "[560]\tvalidation_0-rmse:12.0821\tvalidation_1-rmse:5.46647\n",
            "[561]\tvalidation_0-rmse:12.078\tvalidation_1-rmse:5.46558\n",
            "[562]\tvalidation_0-rmse:12.074\tvalidation_1-rmse:5.46497\n",
            "[563]\tvalidation_0-rmse:12.0699\tvalidation_1-rmse:5.46402\n",
            "[564]\tvalidation_0-rmse:12.066\tvalidation_1-rmse:5.46349\n",
            "[565]\tvalidation_0-rmse:12.0623\tvalidation_1-rmse:5.46287\n",
            "[566]\tvalidation_0-rmse:12.0579\tvalidation_1-rmse:5.46195\n",
            "[567]\tvalidation_0-rmse:12.0538\tvalidation_1-rmse:5.46106\n",
            "[568]\tvalidation_0-rmse:12.0499\tvalidation_1-rmse:5.46051\n",
            "[569]\tvalidation_0-rmse:12.0458\tvalidation_1-rmse:5.45962\n",
            "[570]\tvalidation_0-rmse:12.0419\tvalidation_1-rmse:5.45908\n",
            "[571]\tvalidation_0-rmse:12.0379\tvalidation_1-rmse:5.45817\n",
            "[572]\tvalidation_0-rmse:12.0338\tvalidation_1-rmse:5.45729\n",
            "[573]\tvalidation_0-rmse:12.0301\tvalidation_1-rmse:5.45674\n",
            "[574]\tvalidation_0-rmse:12.0261\tvalidation_1-rmse:5.45587\n",
            "[575]\tvalidation_0-rmse:12.0222\tvalidation_1-rmse:5.45542\n",
            "[576]\tvalidation_0-rmse:12.0186\tvalidation_1-rmse:5.45485\n",
            "[577]\tvalidation_0-rmse:12.0143\tvalidation_1-rmse:5.45396\n",
            "[578]\tvalidation_0-rmse:12.0106\tvalidation_1-rmse:5.45345\n",
            "[579]\tvalidation_0-rmse:12.007\tvalidation_1-rmse:5.45293\n",
            "[580]\tvalidation_0-rmse:12.003\tvalidation_1-rmse:5.45204\n",
            "[581]\tvalidation_0-rmse:11.9987\tvalidation_1-rmse:5.4512\n",
            "[582]\tvalidation_0-rmse:11.9951\tvalidation_1-rmse:5.4507\n",
            "[583]\tvalidation_0-rmse:11.9911\tvalidation_1-rmse:5.44982\n",
            "[584]\tvalidation_0-rmse:11.9873\tvalidation_1-rmse:5.44928\n",
            "[585]\tvalidation_0-rmse:11.9831\tvalidation_1-rmse:5.4484\n",
            "[586]\tvalidation_0-rmse:11.9791\tvalidation_1-rmse:5.44749\n",
            "[587]\tvalidation_0-rmse:11.9755\tvalidation_1-rmse:5.44699\n",
            "[588]\tvalidation_0-rmse:11.9713\tvalidation_1-rmse:5.44611\n",
            "[589]\tvalidation_0-rmse:11.9678\tvalidation_1-rmse:5.44556\n",
            "[590]\tvalidation_0-rmse:11.964\tvalidation_1-rmse:5.44508\n",
            "[591]\tvalidation_0-rmse:11.9601\tvalidation_1-rmse:5.44419\n",
            "[592]\tvalidation_0-rmse:11.9565\tvalidation_1-rmse:5.4437\n",
            "[593]\tvalidation_0-rmse:11.9526\tvalidation_1-rmse:5.44283\n",
            "[594]\tvalidation_0-rmse:11.9484\tvalidation_1-rmse:5.44198\n",
            "[595]\tvalidation_0-rmse:11.9449\tvalidation_1-rmse:5.44153\n",
            "[596]\tvalidation_0-rmse:11.9413\tvalidation_1-rmse:5.44101\n",
            "[597]\tvalidation_0-rmse:11.9372\tvalidation_1-rmse:5.4402\n",
            "[598]\tvalidation_0-rmse:11.9335\tvalidation_1-rmse:5.43973\n",
            "[599]\tvalidation_0-rmse:11.9296\tvalidation_1-rmse:5.4389\n",
            "[600]\tvalidation_0-rmse:11.9256\tvalidation_1-rmse:5.43809\n",
            "[601]\tvalidation_0-rmse:11.9219\tvalidation_1-rmse:5.43764\n",
            "[602]\tvalidation_0-rmse:11.918\tvalidation_1-rmse:5.4368\n",
            "[603]\tvalidation_0-rmse:11.9143\tvalidation_1-rmse:5.43637\n",
            "[604]\tvalidation_0-rmse:11.9109\tvalidation_1-rmse:5.43589\n",
            "[605]\tvalidation_0-rmse:11.907\tvalidation_1-rmse:5.43513\n",
            "[606]\tvalidation_0-rmse:11.9031\tvalidation_1-rmse:5.43432\n",
            "[607]\tvalidation_0-rmse:11.8995\tvalidation_1-rmse:5.43388\n",
            "[608]\tvalidation_0-rmse:11.8956\tvalidation_1-rmse:5.43313\n",
            "[609]\tvalidation_0-rmse:11.8919\tvalidation_1-rmse:5.43272\n",
            "[610]\tvalidation_0-rmse:11.8885\tvalidation_1-rmse:5.43226\n",
            "[611]\tvalidation_0-rmse:11.8844\tvalidation_1-rmse:5.43163\n",
            "[612]\tvalidation_0-rmse:11.881\tvalidation_1-rmse:5.43121\n",
            "[613]\tvalidation_0-rmse:11.8771\tvalidation_1-rmse:5.43052\n",
            "[614]\tvalidation_0-rmse:11.8734\tvalidation_1-rmse:5.43015\n",
            "[615]\tvalidation_0-rmse:11.8696\tvalidation_1-rmse:5.42937\n",
            "[616]\tvalidation_0-rmse:11.8662\tvalidation_1-rmse:5.42908\n",
            "[617]\tvalidation_0-rmse:11.8623\tvalidation_1-rmse:5.42833\n",
            "[618]\tvalidation_0-rmse:11.8587\tvalidation_1-rmse:5.42804\n",
            "[619]\tvalidation_0-rmse:11.8549\tvalidation_1-rmse:5.42736\n",
            "[620]\tvalidation_0-rmse:11.8509\tvalidation_1-rmse:5.42666\n",
            "[621]\tvalidation_0-rmse:11.8475\tvalidation_1-rmse:5.42641\n",
            "[622]\tvalidation_0-rmse:11.8435\tvalidation_1-rmse:5.42579\n",
            "[623]\tvalidation_0-rmse:11.8402\tvalidation_1-rmse:5.4254\n",
            "[624]\tvalidation_0-rmse:11.8366\tvalidation_1-rmse:5.42516\n",
            "[625]\tvalidation_0-rmse:11.8328\tvalidation_1-rmse:5.42457\n",
            "[626]\tvalidation_0-rmse:11.829\tvalidation_1-rmse:5.42383\n",
            "[627]\tvalidation_0-rmse:11.8255\tvalidation_1-rmse:5.4235\n",
            "[628]\tvalidation_0-rmse:11.8217\tvalidation_1-rmse:5.42282\n",
            "[629]\tvalidation_0-rmse:11.8183\tvalidation_1-rmse:5.42248\n",
            "[630]\tvalidation_0-rmse:11.815\tvalidation_1-rmse:5.42213\n",
            "[631]\tvalidation_0-rmse:11.8111\tvalidation_1-rmse:5.42154\n",
            "[632]\tvalidation_0-rmse:11.8077\tvalidation_1-rmse:5.42125\n",
            "[633]\tvalidation_0-rmse:11.8038\tvalidation_1-rmse:5.42061\n",
            "[634]\tvalidation_0-rmse:11.8001\tvalidation_1-rmse:5.41995\n",
            "[635]\tvalidation_0-rmse:11.7966\tvalidation_1-rmse:5.41965\n",
            "[636]\tvalidation_0-rmse:11.7929\tvalidation_1-rmse:5.419\n",
            "[637]\tvalidation_0-rmse:11.7894\tvalidation_1-rmse:5.4188\n",
            "[638]\tvalidation_0-rmse:11.7862\tvalidation_1-rmse:5.41851\n",
            "[639]\tvalidation_0-rmse:11.7825\tvalidation_1-rmse:5.41792\n",
            "[640]\tvalidation_0-rmse:11.7788\tvalidation_1-rmse:5.41726\n",
            "[641]\tvalidation_0-rmse:11.7756\tvalidation_1-rmse:5.417\n",
            "[642]\tvalidation_0-rmse:11.7717\tvalidation_1-rmse:5.4165\n",
            "[643]\tvalidation_0-rmse:11.7684\tvalidation_1-rmse:5.41621\n",
            "[644]\tvalidation_0-rmse:11.765\tvalidation_1-rmse:5.41597\n",
            "[645]\tvalidation_0-rmse:11.7613\tvalidation_1-rmse:5.41541\n",
            "[646]\tvalidation_0-rmse:11.7575\tvalidation_1-rmse:5.41483\n",
            "[647]\tvalidation_0-rmse:11.7543\tvalidation_1-rmse:5.41454\n",
            "[648]\tvalidation_0-rmse:11.7504\tvalidation_1-rmse:5.41407\n",
            "[649]\tvalidation_0-rmse:11.7472\tvalidation_1-rmse:5.41382\n",
            "[650]\tvalidation_0-rmse:11.7436\tvalidation_1-rmse:5.41327\n",
            "[651]\tvalidation_0-rmse:11.7404\tvalidation_1-rmse:5.41303\n",
            "[652]\tvalidation_0-rmse:11.7372\tvalidation_1-rmse:5.41281\n",
            "[653]\tvalidation_0-rmse:11.7334\tvalidation_1-rmse:5.41228\n",
            "[654]\tvalidation_0-rmse:11.7298\tvalidation_1-rmse:5.41179\n",
            "[655]\tvalidation_0-rmse:11.7264\tvalidation_1-rmse:5.41158\n",
            "[656]\tvalidation_0-rmse:11.7228\tvalidation_1-rmse:5.41102\n",
            "[657]\tvalidation_0-rmse:11.7194\tvalidation_1-rmse:5.41083\n",
            "[658]\tvalidation_0-rmse:11.7162\tvalidation_1-rmse:5.41067\n",
            "[659]\tvalidation_0-rmse:11.7125\tvalidation_1-rmse:5.41017\n",
            "[660]\tvalidation_0-rmse:11.7089\tvalidation_1-rmse:5.40963\n",
            "[661]\tvalidation_0-rmse:11.7055\tvalidation_1-rmse:5.40946\n",
            "[662]\tvalidation_0-rmse:11.702\tvalidation_1-rmse:5.40894\n",
            "[663]\tvalidation_0-rmse:11.6988\tvalidation_1-rmse:5.40878\n",
            "[664]\tvalidation_0-rmse:11.6953\tvalidation_1-rmse:5.40825\n",
            "[665]\tvalidation_0-rmse:11.6918\tvalidation_1-rmse:5.40779\n",
            "[666]\tvalidation_0-rmse:11.6884\tvalidation_1-rmse:5.40764\n",
            "[667]\tvalidation_0-rmse:11.6849\tvalidation_1-rmse:5.40715\n",
            "[668]\tvalidation_0-rmse:11.6816\tvalidation_1-rmse:5.40699\n",
            "[669]\tvalidation_0-rmse:11.6784\tvalidation_1-rmse:5.40685\n",
            "[670]\tvalidation_0-rmse:11.6749\tvalidation_1-rmse:5.4064\n",
            "[671]\tvalidation_0-rmse:11.6718\tvalidation_1-rmse:5.40624\n",
            "[672]\tvalidation_0-rmse:11.6685\tvalidation_1-rmse:5.40612\n",
            "[673]\tvalidation_0-rmse:11.665\tvalidation_1-rmse:5.4057\n",
            "[674]\tvalidation_0-rmse:11.6615\tvalidation_1-rmse:5.40519\n",
            "[675]\tvalidation_0-rmse:11.6582\tvalidation_1-rmse:5.40509\n",
            "[676]\tvalidation_0-rmse:11.6545\tvalidation_1-rmse:5.40468\n",
            "[677]\tvalidation_0-rmse:11.6514\tvalidation_1-rmse:5.40453\n",
            "[678]\tvalidation_0-rmse:11.648\tvalidation_1-rmse:5.4041\n",
            "[679]\tvalidation_0-rmse:11.6446\tvalidation_1-rmse:5.40393\n",
            "[680]\tvalidation_0-rmse:11.6411\tvalidation_1-rmse:5.40348\n",
            "[681]\tvalidation_0-rmse:11.6379\tvalidation_1-rmse:5.40339\n",
            "[682]\tvalidation_0-rmse:11.6344\tvalidation_1-rmse:5.40297\n",
            "[683]\tvalidation_0-rmse:11.6313\tvalidation_1-rmse:5.40294\n",
            "[684]\tvalidation_0-rmse:11.6279\tvalidation_1-rmse:5.40249\n",
            "[685]\tvalidation_0-rmse:11.6243\tvalidation_1-rmse:5.40212\n",
            "[686]\tvalidation_0-rmse:11.6212\tvalidation_1-rmse:5.40206\n",
            "[687]\tvalidation_0-rmse:11.6182\tvalidation_1-rmse:5.40201\n",
            "[688]\tvalidation_0-rmse:11.6146\tvalidation_1-rmse:5.40161\n",
            "[689]\tvalidation_0-rmse:11.6113\tvalidation_1-rmse:5.4016\n",
            "[690]\tvalidation_0-rmse:11.608\tvalidation_1-rmse:5.40123\n",
            "[691]\tvalidation_0-rmse:11.6049\tvalidation_1-rmse:5.40118\n",
            "[692]\tvalidation_0-rmse:11.6017\tvalidation_1-rmse:5.40112\n",
            "[693]\tvalidation_0-rmse:11.5983\tvalidation_1-rmse:5.40078\n",
            "[694]\tvalidation_0-rmse:11.5949\tvalidation_1-rmse:5.40043\n",
            "[695]\tvalidation_0-rmse:11.5919\tvalidation_1-rmse:5.40039\n",
            "[696]\tvalidation_0-rmse:11.5884\tvalidation_1-rmse:5.40005\n",
            "[697]\tvalidation_0-rmse:11.5854\tvalidation_1-rmse:5.40003\n",
            "[698]\tvalidation_0-rmse:11.5818\tvalidation_1-rmse:5.39971\n",
            "[699]\tvalidation_0-rmse:11.5784\tvalidation_1-rmse:5.39936\n",
            "[700]\tvalidation_0-rmse:11.5753\tvalidation_1-rmse:5.39937\n",
            "[701]\tvalidation_0-rmse:11.5723\tvalidation_1-rmse:5.39937\n",
            "[702]\tvalidation_0-rmse:11.5688\tvalidation_1-rmse:5.39903\n",
            "[703]\tvalidation_0-rmse:11.5658\tvalidation_1-rmse:5.39909\n",
            "[704]\tvalidation_0-rmse:11.5625\tvalidation_1-rmse:5.39873\n",
            "[705]\tvalidation_0-rmse:11.5593\tvalidation_1-rmse:5.39875\n",
            "[706]\tvalidation_0-rmse:11.556\tvalidation_1-rmse:5.39841\n",
            "[707]\tvalidation_0-rmse:11.553\tvalidation_1-rmse:5.39849\n",
            "[708]\tvalidation_0-rmse:11.5497\tvalidation_1-rmse:5.39815\n",
            "[709]\tvalidation_0-rmse:11.5466\tvalidation_1-rmse:5.39818\n",
            "[710]\tvalidation_0-rmse:11.5433\tvalidation_1-rmse:5.3979\n",
            "[711]\tvalidation_0-rmse:11.5404\tvalidation_1-rmse:5.3979\n",
            "[712]\tvalidation_0-rmse:11.5369\tvalidation_1-rmse:5.39762\n",
            "[713]\tvalidation_0-rmse:11.5334\tvalidation_1-rmse:5.39736\n",
            "[714]\tvalidation_0-rmse:11.5305\tvalidation_1-rmse:5.39735\n",
            "[715]\tvalidation_0-rmse:11.5272\tvalidation_1-rmse:5.3971\n",
            "[716]\tvalidation_0-rmse:11.5241\tvalidation_1-rmse:5.39715\n",
            "[717]\tvalidation_0-rmse:11.5212\tvalidation_1-rmse:5.39719\n",
            "[718]\tvalidation_0-rmse:11.5179\tvalidation_1-rmse:5.39691\n",
            "[719]\tvalidation_0-rmse:11.5147\tvalidation_1-rmse:5.39666\n",
            "[720]\tvalidation_0-rmse:11.5116\tvalidation_1-rmse:5.3967\n",
            "[721]\tvalidation_0-rmse:11.5084\tvalidation_1-rmse:5.39646\n",
            "[722]\tvalidation_0-rmse:11.5053\tvalidation_1-rmse:5.39654\n",
            "[723]\tvalidation_0-rmse:11.5024\tvalidation_1-rmse:5.39663\n",
            "[724]\tvalidation_0-rmse:11.4992\tvalidation_1-rmse:5.39637\n",
            "[725]\tvalidation_0-rmse:11.4961\tvalidation_1-rmse:5.39645\n",
            "[726]\tvalidation_0-rmse:11.4927\tvalidation_1-rmse:5.39625\n",
            "[727]\tvalidation_0-rmse:11.4895\tvalidation_1-rmse:5.39598\n",
            "[728]\tvalidation_0-rmse:11.4866\tvalidation_1-rmse:5.39609\n",
            "[729]\tvalidation_0-rmse:11.4834\tvalidation_1-rmse:5.39585\n",
            "[730]\tvalidation_0-rmse:11.4806\tvalidation_1-rmse:5.39595\n",
            "[731]\tvalidation_0-rmse:11.4776\tvalidation_1-rmse:5.39605\n",
            "[732]\tvalidation_0-rmse:11.4744\tvalidation_1-rmse:5.39584\n",
            "[733]\tvalidation_0-rmse:11.471\tvalidation_1-rmse:5.39562\n",
            "[734]\tvalidation_0-rmse:11.4682\tvalidation_1-rmse:5.39572\n",
            "[735]\tvalidation_0-rmse:11.4648\tvalidation_1-rmse:5.39553\n",
            "[736]\tvalidation_0-rmse:11.462\tvalidation_1-rmse:5.39566\n",
            "[737]\tvalidation_0-rmse:11.459\tvalidation_1-rmse:5.39577\n",
            "[738]\tvalidation_0-rmse:11.4558\tvalidation_1-rmse:5.39559\n",
            "[739]\tvalidation_0-rmse:11.4527\tvalidation_1-rmse:5.39539\n",
            "[740]\tvalidation_0-rmse:11.4499\tvalidation_1-rmse:5.39554\n",
            "[741]\tvalidation_0-rmse:11.4467\tvalidation_1-rmse:5.39532\n",
            "[742]\tvalidation_0-rmse:11.4438\tvalidation_1-rmse:5.39548\n",
            "[743]\tvalidation_0-rmse:11.4406\tvalidation_1-rmse:5.39532\n",
            "[744]\tvalidation_0-rmse:11.4376\tvalidation_1-rmse:5.39549\n",
            "[745]\tvalidation_0-rmse:11.4349\tvalidation_1-rmse:5.39559\n",
            "[746]\tvalidation_0-rmse:11.4315\tvalidation_1-rmse:5.39546\n",
            "[747]\tvalidation_0-rmse:11.4287\tvalidation_1-rmse:5.39539\n",
            "[748]\tvalidation_0-rmse:11.4255\tvalidation_1-rmse:5.39512\n",
            "[749]\tvalidation_0-rmse:11.4225\tvalidation_1-rmse:5.39516\n",
            "[750]\tvalidation_0-rmse:11.4192\tvalidation_1-rmse:5.39492\n",
            "[751]\tvalidation_0-rmse:11.4164\tvalidation_1-rmse:5.39494\n",
            "[752]\tvalidation_0-rmse:11.4132\tvalidation_1-rmse:5.39474\n",
            "[753]\tvalidation_0-rmse:11.4101\tvalidation_1-rmse:5.39446\n",
            "[754]\tvalidation_0-rmse:11.4073\tvalidation_1-rmse:5.39451\n",
            "[755]\tvalidation_0-rmse:11.404\tvalidation_1-rmse:5.39427\n",
            "[756]\tvalidation_0-rmse:11.4012\tvalidation_1-rmse:5.39438\n",
            "[757]\tvalidation_0-rmse:11.3983\tvalidation_1-rmse:5.39445\n",
            "[758]\tvalidation_0-rmse:11.3952\tvalidation_1-rmse:5.3942\n",
            "[759]\tvalidation_0-rmse:11.3919\tvalidation_1-rmse:5.39399\n",
            "[760]\tvalidation_0-rmse:11.3891\tvalidation_1-rmse:5.3941\n",
            "[761]\tvalidation_0-rmse:11.386\tvalidation_1-rmse:5.39383\n",
            "[762]\tvalidation_0-rmse:11.3831\tvalidation_1-rmse:5.39395\n",
            "[763]\tvalidation_0-rmse:11.38\tvalidation_1-rmse:5.39373\n",
            "[764]\tvalidation_0-rmse:11.3773\tvalidation_1-rmse:5.39385\n",
            "[765]\tvalidation_0-rmse:11.3746\tvalidation_1-rmse:5.39391\n",
            "[766]\tvalidation_0-rmse:11.3713\tvalidation_1-rmse:5.39375\n",
            "[767]\tvalidation_0-rmse:11.3682\tvalidation_1-rmse:5.39355\n",
            "[768]\tvalidation_0-rmse:11.3653\tvalidation_1-rmse:5.39368\n",
            "[769]\tvalidation_0-rmse:11.3623\tvalidation_1-rmse:5.39347\n",
            "[770]\tvalidation_0-rmse:11.3594\tvalidation_1-rmse:5.39362\n",
            "[771]\tvalidation_0-rmse:11.3567\tvalidation_1-rmse:5.39371\n",
            "[772]\tvalidation_0-rmse:11.3534\tvalidation_1-rmse:5.39355\n",
            "[773]\tvalidation_0-rmse:11.3504\tvalidation_1-rmse:5.39339\n",
            "[774]\tvalidation_0-rmse:11.3477\tvalidation_1-rmse:5.39352\n",
            "[775]\tvalidation_0-rmse:11.3447\tvalidation_1-rmse:5.39332\n",
            "[776]\tvalidation_0-rmse:11.342\tvalidation_1-rmse:5.39348\n",
            "[777]\tvalidation_0-rmse:11.3388\tvalidation_1-rmse:5.39333\n",
            "[778]\tvalidation_0-rmse:11.3358\tvalidation_1-rmse:5.39316\n",
            "[779]\tvalidation_0-rmse:11.333\tvalidation_1-rmse:5.3933\n",
            "[780]\tvalidation_0-rmse:11.3299\tvalidation_1-rmse:5.3932\n",
            "[781]\tvalidation_0-rmse:11.3271\tvalidation_1-rmse:5.39334\n",
            "[782]\tvalidation_0-rmse:11.3244\tvalidation_1-rmse:5.39349\n",
            "[783]\tvalidation_0-rmse:11.3213\tvalidation_1-rmse:5.39337\n",
            "[784]\tvalidation_0-rmse:11.3186\tvalidation_1-rmse:5.39354\n",
            "[785]\tvalidation_0-rmse:11.316\tvalidation_1-rmse:5.39372\n",
            "[786]\tvalidation_0-rmse:11.313\tvalidation_1-rmse:5.39356\n",
            "[787]\tvalidation_0-rmse:11.3098\tvalidation_1-rmse:5.39346\n",
            "[788]\tvalidation_0-rmse:11.3072\tvalidation_1-rmse:5.39366\n",
            "[789]\tvalidation_0-rmse:11.3043\tvalidation_1-rmse:5.3935\n",
            "[790]\tvalidation_0-rmse:11.3014\tvalidation_1-rmse:5.3937\n",
            "[791]\tvalidation_0-rmse:11.2985\tvalidation_1-rmse:5.39358\n",
            "[792]\tvalidation_0-rmse:11.2953\tvalidation_1-rmse:5.39348\n",
            "[793]\tvalidation_0-rmse:11.2927\tvalidation_1-rmse:5.39367\n",
            "[794]\tvalidation_0-rmse:11.2896\tvalidation_1-rmse:5.39362\n",
            "[795]\tvalidation_0-rmse:11.287\tvalidation_1-rmse:5.39377\n",
            "[796]\tvalidation_0-rmse:11.2842\tvalidation_1-rmse:5.394\n",
            "[797]\tvalidation_0-rmse:11.2813\tvalidation_1-rmse:5.39389\n",
            "[798]\tvalidation_0-rmse:11.2784\tvalidation_1-rmse:5.39383\n",
            "[799]\tvalidation_0-rmse:11.2758\tvalidation_1-rmse:5.39401\n"
          ]
        },
        {
          "output_type": "execute_result",
          "data": {
            "text/plain": [
              "XGBRegressor(base_score=0.05, early_stopping_rounds=50, learning_rate=0.001,\n",
              "             max_depth=7, n_estimators=800, objective='reg:squarederror',\n",
              "             random_state=5)"
            ]
          },
          "metadata": {},
          "execution_count": 30
        }
      ],
      "source": [
        "model.fit(X_train58, y_train58,\n",
        "        eval_set=[(X_train58, y_train58), (X_test58, y_test58)],\n",
        "        verbose=1)"
      ]
    },
    {
      "cell_type": "code",
      "source": [
        "test = test.drop(columns=['prediction'])"
      ],
      "metadata": {
        "id": "cFeK7Btw7MYf"
      },
      "execution_count": null,
      "outputs": []
    },
    {
      "cell_type": "code",
      "source": [
        "test58 = test58.drop(columns=['prediction'])"
      ],
      "metadata": {
        "id": "zEnSxNflzYys"
      },
      "execution_count": null,
      "outputs": []
    },
    {
      "cell_type": "code",
      "source": [
        "test['prediction'] = model.predict(X_test)"
      ],
      "metadata": {
        "id": "C-uDKAwR6b-R"
      },
      "execution_count": null,
      "outputs": []
    },
    {
      "cell_type": "code",
      "source": [
        "test58['prediction'] = model.predict(X_test58)"
      ],
      "metadata": {
        "id": "CqjWFzQczeER"
      },
      "execution_count": null,
      "outputs": []
    },
    {
      "cell_type": "markdown",
      "source": [
        "**Model RMSE score**"
      ],
      "metadata": {
        "id": "SdOK7GoZ9DVP"
      }
    },
    {
      "cell_type": "code",
      "source": [
        "score = np.sqrt(mean_squared_error(test['QTY'], test['prediction']))\n",
        "print(f'RMSE Score on Test set: {score:0.2f}') # 3.9468"
      ],
      "metadata": {
        "colab": {
          "base_uri": "https://localhost:8080/"
        },
        "id": "R1ubNx7j6Otg",
        "outputId": "e67896b1-a8d4-434d-dd53-f104b881e79f"
      },
      "execution_count": null,
      "outputs": [
        {
          "output_type": "stream",
          "name": "stdout",
          "text": [
            "RMSE Score on Test set: 3.95\n"
          ]
        }
      ]
    },
    {
      "cell_type": "code",
      "source": [
        "explained_variance_score(test['QTY'], test['prediction']) # Best possible score is 1.0, lower values are worse"
      ],
      "metadata": {
        "colab": {
          "base_uri": "https://localhost:8080/"
        },
        "id": "sGrvSA96AL0V",
        "outputId": "0ae87985-ea3e-429e-a790-ef7d86502b41"
      },
      "execution_count": null,
      "outputs": [
        {
          "output_type": "execute_result",
          "data": {
            "text/plain": [
              "0.23597846863460015"
            ]
          },
          "metadata": {},
          "execution_count": 86
        }
      ]
    },
    {
      "cell_type": "code",
      "source": [
        "r2_score(test['QTY'], test['prediction']) # 1.0 perfect, 0 impperfect"
      ],
      "metadata": {
        "colab": {
          "base_uri": "https://localhost:8080/"
        },
        "id": "MXHXYrsbArx7",
        "outputId": "8ac86fbf-5aaa-4efc-ade4-b154d9ec7bd7"
      },
      "execution_count": null,
      "outputs": [
        {
          "output_type": "execute_result",
          "data": {
            "text/plain": [
              "0.23463629248903228"
            ]
          },
          "metadata": {},
          "execution_count": 87
        }
      ]
    },
    {
      "cell_type": "code",
      "source": [
        "median_absolute_error(test['QTY'], test['prediction']) # Best value is zero"
      ],
      "metadata": {
        "colab": {
          "base_uri": "https://localhost:8080/"
        },
        "id": "h7cqsgzXBXfV",
        "outputId": "0971ee60-6b95-4ca8-e6d1-69963aba42b9"
      },
      "execution_count": null,
      "outputs": [
        {
          "output_type": "execute_result",
          "data": {
            "text/plain": [
              "1.48197603225708"
            ]
          },
          "metadata": {},
          "execution_count": 88
        }
      ]
    },
    {
      "cell_type": "markdown",
      "source": [
        "**Calculate Error**"
      ],
      "metadata": {
        "id": "ZSq-bik29ode"
      }
    },
    {
      "cell_type": "markdown",
      "source": [
        "Look at the worst and best prediction days"
      ],
      "metadata": {
        "id": "NxG61cuo8-MS"
      }
    },
    {
      "cell_type": "code",
      "source": [
        "test['error'] = np.abs(test[TARGET] - test['prediction'])\n",
        "test['date'] = test['DATE1']\n",
        "test.groupby(['date'])['error'].mean().sort_values(ascending=False).head(20)"
      ],
      "metadata": {
        "colab": {
          "base_uri": "https://localhost:8080/"
        },
        "id": "fumU_Jxi6sBL",
        "outputId": "e534cc59-1660-427d-9aba-e16d42ca7e0b"
      },
      "execution_count": null,
      "outputs": [
        {
          "output_type": "execute_result",
          "data": {
            "text/plain": [
              "date\n",
              "2022-05-01    17.728508\n",
              "2022-07-08     8.875150\n",
              "2022-04-30     8.423556\n",
              "2022-04-29     7.510031\n",
              "2022-01-02     5.283080\n",
              "2022-05-03     5.254393\n",
              "2022-01-01     4.002499\n",
              "2022-04-28     3.874528\n",
              "2022-05-07     3.638348\n",
              "2022-01-04     3.606155\n",
              "2022-03-25     3.400878\n",
              "2022-03-31     3.279686\n",
              "2022-01-09     3.272791\n",
              "2022-05-05     3.249778\n",
              "2022-03-03     3.241835\n",
              "2022-01-20     3.237270\n",
              "2022-05-04     3.058255\n",
              "2022-03-11     2.951922\n",
              "2022-07-09     2.940067\n",
              "2022-01-03     2.895452\n",
              "Name: error, dtype: float64"
            ]
          },
          "metadata": {},
          "execution_count": 89
        }
      ]
    },
    {
      "cell_type": "markdown",
      "source": [
        "Save the model"
      ],
      "metadata": {
        "id": "7Sv9_adAxlox"
      }
    },
    {
      "cell_type": "code",
      "source": [
        "with open(path + 'model.pk', 'wb') as f:\n",
        "  pickle.dump(model, f)"
      ],
      "metadata": {
        "id": "ZPQECJughoYX"
      },
      "execution_count": null,
      "outputs": []
    },
    {
      "cell_type": "code",
      "source": [
        "with open(path + 'model58.pk', 'wb') as f:\n",
        "  pickle.dump(model, f)"
      ],
      "metadata": {
        "id": "MRsrxOHpzmC9"
      },
      "execution_count": null,
      "outputs": []
    },
    {
      "cell_type": "markdown",
      "metadata": {
        "id": "m7YmFI8UjU5T"
      },
      "source": [
        "**Feature Importance**"
      ]
    },
    {
      "cell_type": "code",
      "source": [
        "# get importance\n",
        "importance = model.feature_importances_\n",
        "# summarize feature importance\n",
        "for i,v in enumerate(importance):\n",
        "\tprint('Feature: %0d [%s], Score: %.5f' % (i, FEATURES[i], v))\n",
        "#FEATURES = ['SLS_CNTR_ID', 'isSalaryweek', 'AcademicCalendarSemester', 'isWeekend', 'isRamadan', 'isRamadanEnd', 'isEid', 'isNationalday']"
      ],
      "metadata": {
        "id": "slfy6uhoHzWS",
        "outputId": "d6d3e54a-11e9-4826-c49a-02a3c0a5ad13",
        "colab": {
          "base_uri": "https://localhost:8080/"
        }
      },
      "execution_count": null,
      "outputs": [
        {
          "output_type": "stream",
          "name": "stdout",
          "text": [
            "Feature: 0 [SLS_CNTR_ID], Score: 0.37317\n",
            "Feature: 1 [dayofyear], Score: 0.07450\n",
            "Feature: 2 [Monthday], Score: 0.01750\n",
            "Feature: 3 [Weekday], Score: 0.06906\n",
            "Feature: 4 [weekofyear], Score: 0.04463\n",
            "Feature: 5 [month], Score: 0.17891\n",
            "Feature: 6 [quarter], Score: 0.00000\n",
            "Feature: 7 [isSalaryweek], Score: 0.00000\n",
            "Feature: 8 [isWeekend], Score: 0.00525\n",
            "Feature: 9 [isNationalday], Score: 0.07176\n",
            "Feature: 10 [isRamadan], Score: 0.01174\n",
            "Feature: 11 [isRamadanEnd], Score: 0.11774\n",
            "Feature: 12 [isEid], Score: 0.00022\n",
            "Feature: 13 [Holiday], Score: 0.00000\n",
            "Feature: 14 [AcademicCalendarSemester], Score: 0.03552\n",
            "Feature: 15 [Category_Brand], Score: 0.00000\n",
            "Feature: 16 [Category_Brand2], Score: 0.00000\n",
            "Feature: 17 [Category_Cancelled], Score: 0.00000\n",
            "Feature: 18 [Category_HomeMade], Score: 0.00000\n",
            "Feature: 19 [Category_HomeMadewithVAT], Score: 0.00000\n",
            "Feature: 20 [Category_Imported], Score: 0.00000\n",
            "Feature: 21 [Category_Itproducts], Score: 0.00000\n",
            "Feature: 22 [Category_Local], Score: 0.00000\n",
            "Feature: 23 [Category_Packaging], Score: 0.00000\n",
            "Feature: 24 [Category_Partner], Score: 0.00000\n",
            "Feature: 25 [Category_RawMaterial], Score: 0.00000\n",
            "Feature: 26 [Category_SisterCompany], Score: 0.00000\n",
            "Feature: 27 [hashedSKU], Score: 0.00000\n"
          ]
        }
      ]
    },
    {
      "cell_type": "code",
      "execution_count": null,
      "metadata": {
        "id": "grZw_xPljWN3",
        "colab": {
          "base_uri": "https://localhost:8080/",
          "height": 295
        },
        "outputId": "5703c5cd-fa67-46ce-d6ba-4b17948675d6"
      },
      "outputs": [
        {
          "output_type": "display_data",
          "data": {
            "text/plain": [
              "<Figure size 432x288 with 1 Axes>"
            ],
            "image/png": "[encoded data removed]"
          },
          "metadata": {
            "needs_background": "light"
          }
        }
      ],
      "source": [
        "#from xgboost import XGBRegressor\n",
        "from xgboost import plot_importance\n",
        "# plot feature importance\n",
        "plot_importance(model)\n",
        "plt.show()"
      ]
    },
    {
      "cell_type": "markdown",
      "metadata": {
        "id": "BuP8JJfljfAc"
      },
      "source": [
        "**Forecast on Test**"
      ]
    },
    {
      "cell_type": "code",
      "source": [
        "fig, ax = plt.subplots(figsize=(25, 5))\n",
        "plt.plot(test['DATE1'], test['QTY'], label='Historical Data')\n",
        "plt.plot(test['DATE1'], test['prediction'], label='Predicted Data')\n",
        "plt.ylabel('Qty')\n",
        "plt.legend(['Historical Data', 'Predicted Data'])\n",
        "plt.show()"
      ],
      "metadata": {
        "id": "inOtkBjw7GFs",
        "outputId": "d8572211-457d-4039-ae08-e6ab111218d7",
        "colab": {
          "base_uri": "https://localhost:8080/",
          "height": 285
        }
      },
      "execution_count": null,
      "outputs": [
        {
          "output_type": "display_data",
          "data": {
            "text/plain": [
              "<Figure size 1800x360 with 1 Axes>"
            ],
            "image/png": "[encoded data removed]"
          },
          "metadata": {
            "needs_background": "light"
          }
        }
      ]
    },
    {
      "cell_type": "code",
      "source": [
        "test"
      ],
      "metadata": {
        "colab": {
          "base_uri": "https://localhost:8080/",
          "height": 661
        },
        "id": "MP5YrVIHG6EJ",
        "outputId": "64113ceb-6df9-4b29-81b7-66285fd9043a"
      },
      "execution_count": null,
      "outputs": [
        {
          "output_type": "execute_result",
          "data": {
            "text/plain": [
              "        SLS_CNTR_ID      DATE1   QTY  dayofyear  Monthday  Weekday  \\\n",
              "397521           37 2022-01-01   8.0          1         1        5   \n",
              "397520           34 2022-01-01   4.0          1         1        5   \n",
              "397519           30 2022-01-01   4.0          1         1        5   \n",
              "397518           28 2022-01-01   6.0          1         1        5   \n",
              "397517           24 2022-01-01   7.0          1         1        5   \n",
              "...             ...        ...   ...        ...       ...      ...   \n",
              "399333           30 2022-07-22   5.0        203        22        4   \n",
              "399334           34 2022-07-22   2.0        203        22        4   \n",
              "399335           37 2022-07-22   1.0        203        22        4   \n",
              "399324            4 2022-07-22   3.0        203        22        4   \n",
              "399337           58 2022-07-22  11.0        203        22        4   \n",
              "\n",
              "        weekofyear  month  quarter  isSalaryweek  ...  Category_Itproducts  \\\n",
              "397521          52      1        1             0  ...                    0   \n",
              "397520          52      1        1             0  ...                    0   \n",
              "397519          52      1        1             0  ...                    0   \n",
              "397518          52      1        1             0  ...                    0   \n",
              "397517          52      1        1             0  ...                    0   \n",
              "...            ...    ...      ...           ...  ...                  ...   \n",
              "399333          29      7        3             0  ...                    0   \n",
              "399334          29      7        3             0  ...                    0   \n",
              "399335          29      7        3             0  ...                    0   \n",
              "399324          29      7        3             0  ...                    0   \n",
              "399337          29      7        3             0  ...                    0   \n",
              "\n",
              "        Category_Local  Category_Packaging  Category_Partner  \\\n",
              "397521               1                   0                 0   \n",
              "397520               1                   0                 0   \n",
              "397519               1                   0                 0   \n",
              "397518               1                   0                 0   \n",
              "397517               1                   0                 0   \n",
              "...                ...                 ...               ...   \n",
              "399333               1                   0                 0   \n",
              "399334               1                   0                 0   \n",
              "399335               1                   0                 0   \n",
              "399324               1                   0                 0   \n",
              "399337               1                   0                 0   \n",
              "\n",
              "        Category_RawMaterial  Category_SisterCompany  hashedSKU  prediction  \\\n",
              "397521                     0                       0   44936676    7.718802   \n",
              "397520                     0                       0   44936676    7.718802   \n",
              "397519                     0                       0   44936676    5.005981   \n",
              "397518                     0                       0   44936676    5.105567   \n",
              "397517                     0                       0   44936676    8.743222   \n",
              "...                      ...                     ...        ...         ...   \n",
              "399333                     0                       0   44936676    3.163629   \n",
              "399334                     0                       0   44936676    4.837345   \n",
              "399335                     0                       0   44936676    3.934683   \n",
              "399324                     0                       0   44936676    3.853583   \n",
              "399337                     0                       0   44936676    7.244506   \n",
              "\n",
              "           error       date  \n",
              "397521  0.281198 2022-01-01  \n",
              "397520  3.718802 2022-01-01  \n",
              "397519  1.005981 2022-01-01  \n",
              "397518  0.894433 2022-01-01  \n",
              "397517  1.743222 2022-01-01  \n",
              "...          ...        ...  \n",
              "399333  1.836371 2022-07-22  \n",
              "399334  2.837345 2022-07-22  \n",
              "399335  2.934683 2022-07-22  \n",
              "399324  0.853583 2022-07-22  \n",
              "399337  3.755494 2022-07-22  \n",
              "\n",
              "[3976 rows x 33 columns]"
            ],
            "text/html": [
              "\n",
              "  <div id=\"df-97810736-a8a0-4b67-b5ab-6eb3d0271999\">\n",
              "    <div class=\"colab-df-container\">\n",
              "      <div>\n",
              "<style scoped>\n",
              "    .dataframe tbody tr th:only-of-type {\n",
              "        vertical-align: middle;\n",
              "    }\n",
              "\n",
              "    .dataframe tbody tr th {\n",
              "        vertical-align: top;\n",
              "    }\n",
              "\n",
              "    .dataframe thead th {\n",
              "        text-align: right;\n",
              "    }\n",
              "</style>\n",
              "<table border=\"1\" class=\"dataframe\">\n",
              "  <thead>\n",
              "    <tr style=\"text-align: right;\">\n",
              "      <th></th>\n",
              "      <th>SLS_CNTR_ID</th>\n",
              "      <th>DATE1</th>\n",
              "      <th>QTY</th>\n",
              "      <th>dayofyear</th>\n",
              "      <th>Monthday</th>\n",
              "      <th>Weekday</th>\n",
              "      <th>weekofyear</th>\n",
              "      <th>month</th>\n",
              "      <th>quarter</th>\n",
              "      <th>isSalaryweek</th>\n",
              "      <th>...</th>\n",
              "      <th>Category_Itproducts</th>\n",
              "      <th>Category_Local</th>\n",
              "      <th>Category_Packaging</th>\n",
              "      <th>Category_Partner</th>\n",
              "      <th>Category_RawMaterial</th>\n",
              "      <th>Category_SisterCompany</th>\n",
              "      <th>hashedSKU</th>\n",
              "      <th>prediction</th>\n",
              "      <th>error</th>\n",
              "      <th>date</th>\n",
              "    </tr>\n",
              "  </thead>\n",
              "  <tbody>\n",
              "    <tr>\n",
              "      <th>397521</th>\n",
              "      <td>37</td>\n",
              "      <td>2022-01-01</td>\n",
              "      <td>8.0</td>\n",
              "      <td>1</td>\n",
              "      <td>1</td>\n",
              "      <td>5</td>\n",
              "      <td>52</td>\n",
              "      <td>1</td>\n",
              "      <td>1</td>\n",
              "      <td>0</td>\n",
              "      <td>...</td>\n",
              "      <td>0</td>\n",
              "      <td>1</td>\n",
              "      <td>0</td>\n",
              "      <td>0</td>\n",
              "      <td>0</td>\n",
              "      <td>0</td>\n",
              "      <td>44936676</td>\n",
              "      <td>7.718802</td>\n",
              "      <td>0.281198</td>\n",
              "      <td>2022-01-01</td>\n",
              "    </tr>\n",
              "    <tr>\n",
              "      <th>397520</th>\n",
              "      <td>34</td>\n",
              "      <td>2022-01-01</td>\n",
              "      <td>4.0</td>\n",
              "      <td>1</td>\n",
              "      <td>1</td>\n",
              "      <td>5</td>\n",
              "      <td>52</td>\n",
              "      <td>1</td>\n",
              "      <td>1</td>\n",
              "      <td>0</td>\n",
              "      <td>...</td>\n",
              "      <td>0</td>\n",
              "      <td>1</td>\n",
              "      <td>0</td>\n",
              "      <td>0</td>\n",
              "      <td>0</td>\n",
              "      <td>0</td>\n",
              "      <td>44936676</td>\n",
              "      <td>7.718802</td>\n",
              "      <td>3.718802</td>\n",
              "      <td>2022-01-01</td>\n",
              "    </tr>\n",
              "    <tr>\n",
              "      <th>397519</th>\n",
              "      <td>30</td>\n",
              "      <td>2022-01-01</td>\n",
              "      <td>4.0</td>\n",
              "      <td>1</td>\n",
              "      <td>1</td>\n",
              "      <td>5</td>\n",
              "      <td>52</td>\n",
              "      <td>1</td>\n",
              "      <td>1</td>\n",
              "      <td>0</td>\n",
              "      <td>...</td>\n",
              "      <td>0</td>\n",
              "      <td>1</td>\n",
              "      <td>0</td>\n",
              "      <td>0</td>\n",
              "      <td>0</td>\n",
              "      <td>0</td>\n",
              "      <td>44936676</td>\n",
              "      <td>5.005981</td>\n",
              "      <td>1.005981</td>\n",
              "      <td>2022-01-01</td>\n",
              "    </tr>\n",
              "    <tr>\n",
              "      <th>397518</th>\n",
              "      <td>28</td>\n",
              "      <td>2022-01-01</td>\n",
              "      <td>6.0</td>\n",
              "      <td>1</td>\n",
              "      <td>1</td>\n",
              "      <td>5</td>\n",
              "      <td>52</td>\n",
              "      <td>1</td>\n",
              "      <td>1</td>\n",
              "      <td>0</td>\n",
              "      <td>...</td>\n",
              "      <td>0</td>\n",
              "      <td>1</td>\n",
              "      <td>0</td>\n",
              "      <td>0</td>\n",
              "      <td>0</td>\n",
              "      <td>0</td>\n",
              "      <td>44936676</td>\n",
              "      <td>5.105567</td>\n",
              "      <td>0.894433</td>\n",
              "      <td>2022-01-01</td>\n",
              "    </tr>\n",
              "    <tr>\n",
              "      <th>397517</th>\n",
              "      <td>24</td>\n",
              "      <td>2022-01-01</td>\n",
              "      <td>7.0</td>\n",
              "      <td>1</td>\n",
              "      <td>1</td>\n",
              "      <td>5</td>\n",
              "      <td>52</td>\n",
              "      <td>1</td>\n",
              "      <td>1</td>\n",
              "      <td>0</td>\n",
              "      <td>...</td>\n",
              "      <td>0</td>\n",
              "      <td>1</td>\n",
              "      <td>0</td>\n",
              "      <td>0</td>\n",
              "      <td>0</td>\n",
              "      <td>0</td>\n",
              "      <td>44936676</td>\n",
              "      <td>8.743222</td>\n",
              "      <td>1.743222</td>\n",
              "      <td>2022-01-01</td>\n",
              "    </tr>\n",
              "    <tr>\n",
              "      <th>...</th>\n",
              "      <td>...</td>\n",
              "      <td>...</td>\n",
              "      <td>...</td>\n",
              "      <td>...</td>\n",
              "      <td>...</td>\n",
              "      <td>...</td>\n",
              "      <td>...</td>\n",
              "      <td>...</td>\n",
              "      <td>...</td>\n",
              "      <td>...</td>\n",
              "      <td>...</td>\n",
              "      <td>...</td>\n",
              "      <td>...</td>\n",
              "      <td>...</td>\n",
              "      <td>...</td>\n",
              "      <td>...</td>\n",
              "      <td>...</td>\n",
              "      <td>...</td>\n",
              "      <td>...</td>\n",
              "      <td>...</td>\n",
              "      <td>...</td>\n",
              "    </tr>\n",
              "    <tr>\n",
              "      <th>399333</th>\n",
              "      <td>30</td>\n",
              "      <td>2022-07-22</td>\n",
              "      <td>5.0</td>\n",
              "      <td>203</td>\n",
              "      <td>22</td>\n",
              "      <td>4</td>\n",
              "      <td>29</td>\n",
              "      <td>7</td>\n",
              "      <td>3</td>\n",
              "      <td>0</td>\n",
              "      <td>...</td>\n",
              "      <td>0</td>\n",
              "      <td>1</td>\n",
              "      <td>0</td>\n",
              "      <td>0</td>\n",
              "      <td>0</td>\n",
              "      <td>0</td>\n",
              "      <td>44936676</td>\n",
              "      <td>3.163629</td>\n",
              "      <td>1.836371</td>\n",
              "      <td>2022-07-22</td>\n",
              "    </tr>\n",
              "    <tr>\n",
              "      <th>399334</th>\n",
              "      <td>34</td>\n",
              "      <td>2022-07-22</td>\n",
              "      <td>2.0</td>\n",
              "      <td>203</td>\n",
              "      <td>22</td>\n",
              "      <td>4</td>\n",
              "      <td>29</td>\n",
              "      <td>7</td>\n",
              "      <td>3</td>\n",
              "      <td>0</td>\n",
              "      <td>...</td>\n",
              "      <td>0</td>\n",
              "      <td>1</td>\n",
              "      <td>0</td>\n",
              "      <td>0</td>\n",
              "      <td>0</td>\n",
              "      <td>0</td>\n",
              "      <td>44936676</td>\n",
              "      <td>4.837345</td>\n",
              "      <td>2.837345</td>\n",
              "      <td>2022-07-22</td>\n",
              "    </tr>\n",
              "    <tr>\n",
              "      <th>399335</th>\n",
              "      <td>37</td>\n",
              "      <td>2022-07-22</td>\n",
              "      <td>1.0</td>\n",
              "      <td>203</td>\n",
              "      <td>22</td>\n",
              "      <td>4</td>\n",
              "      <td>29</td>\n",
              "      <td>7</td>\n",
              "      <td>3</td>\n",
              "      <td>0</td>\n",
              "      <td>...</td>\n",
              "      <td>0</td>\n",
              "      <td>1</td>\n",
              "      <td>0</td>\n",
              "      <td>0</td>\n",
              "      <td>0</td>\n",
              "      <td>0</td>\n",
              "      <td>44936676</td>\n",
              "      <td>3.934683</td>\n",
              "      <td>2.934683</td>\n",
              "      <td>2022-07-22</td>\n",
              "    </tr>\n",
              "    <tr>\n",
              "      <th>399324</th>\n",
              "      <td>4</td>\n",
              "      <td>2022-07-22</td>\n",
              "      <td>3.0</td>\n",
              "      <td>203</td>\n",
              "      <td>22</td>\n",
              "      <td>4</td>\n",
              "      <td>29</td>\n",
              "      <td>7</td>\n",
              "      <td>3</td>\n",
              "      <td>0</td>\n",
              "      <td>...</td>\n",
              "      <td>0</td>\n",
              "      <td>1</td>\n",
              "      <td>0</td>\n",
              "      <td>0</td>\n",
              "      <td>0</td>\n",
              "      <td>0</td>\n",
              "      <td>44936676</td>\n",
              "      <td>3.853583</td>\n",
              "      <td>0.853583</td>\n",
              "      <td>2022-07-22</td>\n",
              "    </tr>\n",
              "    <tr>\n",
              "      <th>399337</th>\n",
              "      <td>58</td>\n",
              "      <td>2022-07-22</td>\n",
              "      <td>11.0</td>\n",
              "      <td>203</td>\n",
              "      <td>22</td>\n",
              "      <td>4</td>\n",
              "      <td>29</td>\n",
              "      <td>7</td>\n",
              "      <td>3</td>\n",
              "      <td>0</td>\n",
              "      <td>...</td>\n",
              "      <td>0</td>\n",
              "      <td>1</td>\n",
              "      <td>0</td>\n",
              "      <td>0</td>\n",
              "      <td>0</td>\n",
              "      <td>0</td>\n",
              "      <td>44936676</td>\n",
              "      <td>7.244506</td>\n",
              "      <td>3.755494</td>\n",
              "      <td>2022-07-22</td>\n",
              "    </tr>\n",
              "  </tbody>\n",
              "</table>\n",
              "<p>3976 rows × 33 columns</p>\n",
              "</div>\n",
              "      <button class=\"colab-df-convert\" onclick=\"convertToInteractive('df-97810736-a8a0-4b67-b5ab-6eb3d0271999')\"\n",
              "              title=\"Convert this dataframe to an interactive table.\"\n",
              "              style=\"display:none;\">\n",
              "        \n",
              "  <svg xmlns=\"http://www.w3.org/2000/svg\" height=\"24px\"viewBox=\"0 0 24 24\"\n",
              "       width=\"24px\">\n",
              "    <path d=\"M0 0h24v24H0V0z\" fill=\"none\"/>\n",
              "    <path d=\"M18.56 5.44l.94 2.06.94-2.06 2.06-.94-2.06-.94-.94-2.06-.94 2.06-2.06.94zm-11 1L8.5 8.5l.94-2.06 2.06-.94-2.06-.94L8.5 2.5l-.94 2.06-2.06.94zm10 10l.94 2.06.94-2.06 2.06-.94-2.06-.94-.94-2.06-.94 2.06-2.06.94z\"/><path d=\"M17.41 7.96l-1.37-1.37c-.4-.4-.92-.59-1.43-.59-.52 0-1.04.2-1.43.59L10.3 9.45l-7.72 7.72c-.78.78-.78 2.05 0 2.83L4 21.41c.39.39.9.59 1.41.59.51 0 1.02-.2 1.41-.59l7.78-7.78 2.81-2.81c.8-.78.8-2.07 0-2.86zM5.41 20L4 18.59l7.72-7.72 1.47 1.35L5.41 20z\"/>\n",
              "  </svg>\n",
              "      </button>\n",
              "      \n",
              "  <style>\n",
              "    .colab-df-container {\n",
              "      display:flex;\n",
              "      flex-wrap:wrap;\n",
              "      gap: 12px;\n",
              "    }\n",
              "\n",
              "    .colab-df-convert {\n",
              "      background-color: #E8F0FE;\n",
              "      border: none;\n",
              "      border-radius: 50%;\n",
              "      cursor: pointer;\n",
              "      display: none;\n",
              "      fill: #1967D2;\n",
              "      height: 32px;\n",
              "      padding: 0 0 0 0;\n",
              "      width: 32px;\n",
              "    }\n",
              "\n",
              "    .colab-df-convert:hover {\n",
              "      background-color: #E2EBFA;\n",
              "      box-shadow: 0px 1px 2px rgba(60, 64, 67, 0.3), 0px 1px 3px 1px rgba(60, 64, 67, 0.15);\n",
              "      fill: #174EA6;\n",
              "    }\n",
              "\n",
              "    [theme=dark] .colab-df-convert {\n",
              "      background-color: #3B4455;\n",
              "      fill: #D2E3FC;\n",
              "    }\n",
              "\n",
              "    [theme=dark] .colab-df-convert:hover {\n",
              "      background-color: #434B5C;\n",
              "      box-shadow: 0px 1px 3px 1px rgba(0, 0, 0, 0.15);\n",
              "      filter: drop-shadow(0px 1px 2px rgba(0, 0, 0, 0.3));\n",
              "      fill: #FFFFFF;\n",
              "    }\n",
              "  </style>\n",
              "\n",
              "      <script>\n",
              "        const buttonEl =\n",
              "          document.querySelector('#df-97810736-a8a0-4b67-b5ab-6eb3d0271999 button.colab-df-convert');\n",
              "        buttonEl.style.display =\n",
              "          google.colab.kernel.accessAllowed ? 'block' : 'none';\n",
              "\n",
              "        async function convertToInteractive(key) {\n",
              "          const element = document.querySelector('#df-97810736-a8a0-4b67-b5ab-6eb3d0271999');\n",
              "          const dataTable =\n",
              "            await google.colab.kernel.invokeFunction('convertToInteractive',\n",
              "                                                     [key], {});\n",
              "          if (!dataTable) return;\n",
              "\n",
              "          const docLinkHtml = 'Like what you see? Visit the ' +\n",
              "            '<a target=\"_blank\" href=https://colab.research.google.com/notebooks/data_table.ipynb>data table notebook</a>'\n",
              "            + ' to learn more about interactive tables.';\n",
              "          element.innerHTML = '';\n",
              "          dataTable['output_type'] = 'display_data';\n",
              "          await google.colab.output.renderOutput(dataTable, element);\n",
              "          const docLink = document.createElement('div');\n",
              "          docLink.innerHTML = docLinkHtml;\n",
              "          element.appendChild(docLink);\n",
              "        }\n",
              "      </script>\n",
              "    </div>\n",
              "  </div>\n",
              "  "
            ]
          },
          "metadata": {},
          "execution_count": 94
        }
      ]
    },
    {
      "cell_type": "code",
      "source": [
        "#use this if index is used\n",
        "#span = test.loc[(test.index.get_level_values('DATE1') >= '2022-04-01') & (test.index.get_level_values('DATE1') < '2022-04-12') &\n",
        "#                (test['SLS_CNTR_ID'] == 58)]"
      ],
      "metadata": {
        "id": "DIISZozuGezt"
      },
      "execution_count": null,
      "outputs": []
    },
    {
      "cell_type": "code",
      "source": [
        "span = test.loc[(test['DATE1'] >= '2022-04-15') & (test['DATE1'] < '2022-05-15')]"
      ],
      "metadata": {
        "id": "EKGPQ12taIB7"
      },
      "execution_count": null,
      "outputs": []
    },
    {
      "cell_type": "code",
      "source": [
        "fig, ax = plt.subplots(figsize=(25, 5))\n",
        "\n",
        "plt.plot(span['DATE1'], span['QTY'], label='Historical Data')\n",
        "plt.plot(span['DATE1'], span['prediction'], marker='o', linestyle='--', color='r', label='Predicted Data')\n",
        "plt.ylabel('Qty')\n",
        "plt.legend(['Historical Data', 'Predicted Data'])\n",
        "plt.show()"
      ],
      "metadata": {
        "id": "Kopj01-z8Fa6",
        "outputId": "e09709da-c127-4040-e52f-90d92163c42d",
        "colab": {
          "base_uri": "https://localhost:8080/",
          "height": 288
        }
      },
      "execution_count": null,
      "outputs": [
        {
          "output_type": "display_data",
          "data": {
            "text/plain": [
              "<Figure size 1800x360 with 1 Axes>"
            ],
            "image/png": "[encoded data removed]"
          },
          "metadata": {
            "needs_background": "light"
          }
        }
      ]
    },
    {
      "cell_type": "code",
      "source": [
        "fig, ax = plt.subplots(figsize=(10, 8))\n",
        "sns.boxplot(data=span, x='DATE1', y='QTY')\n",
        "ax.set_title('Sales Qty')\n",
        "plt.show()"
      ],
      "metadata": {
        "id": "iJSbupy_tWL1",
        "outputId": "9d557379-d9aa-47e2-e980-4b9ab8041a29",
        "colab": {
          "base_uri": "https://localhost:8080/",
          "height": 513
        }
      },
      "execution_count": null,
      "outputs": [
        {
          "output_type": "display_data",
          "data": {
            "text/plain": [
              "<Figure size 720x576 with 1 Axes>"
            ],
            "image/png": "[encoded data removed]"
          },
          "metadata": {
            "needs_background": "light"
          }
        }
      ]
    },
    {
      "cell_type": "code",
      "source": [
        "span = test.loc[(test['DATE1'] >= '2022-04-15') & (test['DATE1'] < '2022-04-20')]"
      ],
      "metadata": {
        "id": "tsG6fhP6qocV"
      },
      "execution_count": null,
      "outputs": []
    },
    {
      "cell_type": "code",
      "source": [
        "fig, ax = plt.subplots(figsize=(25, 5))\n",
        "\n",
        "plt.plot(span['DATE1'], span['QTY'], label='Historical Data')\n",
        "plt.plot(span['DATE1'], span['prediction'], marker='o', linestyle='--', color='r', label='Predicted Data')\n",
        "plt.ylabel('Qty')\n",
        "plt.legend(['Historical Data', 'Predicted Data'])\n",
        "plt.show()"
      ],
      "metadata": {
        "id": "k3PYmmE5qwk9",
        "outputId": "beedc568-b764-4644-e24f-5c6312dcc256",
        "colab": {
          "base_uri": "https://localhost:8080/",
          "height": 290
        }
      },
      "execution_count": null,
      "outputs": [
        {
          "output_type": "display_data",
          "data": {
            "text/plain": [
              "<Figure size 1800x360 with 1 Axes>"
            ],
            "image/png": "[encoded data removed]"
          },
          "metadata": {
            "needs_background": "light"
          }
        }
      ]
    },
    {
      "cell_type": "code",
      "source": [
        "fig, ax = plt.subplots(figsize=(25, 8))\n",
        "sns.boxplot(data=span, x='DATE1', y='QTY')\n",
        "ax.set_title('Sales Qty')\n",
        "plt.show()"
      ],
      "metadata": {
        "id": "a_yi1pc0reDz",
        "outputId": "241649db-3883-46af-fc8f-3f0edfb2bb66",
        "colab": {
          "base_uri": "https://localhost:8080/",
          "height": 463
        }
      },
      "execution_count": null,
      "outputs": [
        {
          "output_type": "display_data",
          "data": {
            "text/plain": [
              "<Figure size 1800x576 with 1 Axes>"
            ],
            "image/png": "[encoded data removed]"
          },
          "metadata": {
            "needs_background": "light"
          }
        }
      ]
    },
    {
      "cell_type": "code",
      "source": [
        "span = test.loc[(test['DATE1'] >= '2022-04-15') & (test['DATE1'] < '2022-05-15') & (test['SLS_CNTR_ID'] == 58)]"
      ],
      "metadata": {
        "id": "3JTYmKgxqXXy"
      },
      "execution_count": null,
      "outputs": []
    },
    {
      "cell_type": "code",
      "source": [
        "fig, ax = plt.subplots(figsize=(25, 5))\n",
        "\n",
        "plt.plot(span['DATE1'], span['QTY'], label='Historical Data')\n",
        "plt.plot(span['DATE1'], span['prediction'], marker='o', linestyle='--', color='r', label='Predicted Data')\n",
        "plt.ylabel('Qty')\n",
        "plt.legend(['Historical Data', 'Predicted Data'])\n",
        "plt.show()"
      ],
      "metadata": {
        "id": "_eDe4hwLqZSt",
        "outputId": "e2665f41-6cf2-4c87-afd6-3edd56df8d0f",
        "colab": {
          "base_uri": "https://localhost:8080/",
          "height": 290
        }
      },
      "execution_count": null,
      "outputs": [
        {
          "output_type": "display_data",
          "data": {
            "text/plain": [
              "<Figure size 1800x360 with 1 Axes>"
            ],
            "image/png": "[encoded data removed]"
          },
          "metadata": {
            "needs_background": "light"
          }
        }
      ]
    }
  ],
  "metadata": {
    "accelerator": "GPU",
    "colab": {
      "collapsed_sections": [],
      "name": "05_TrainModel",
      "provenance": [],
      "include_colab_link": true
    },
    "kernelspec": {
      "display_name": "Python 3",
      "name": "python3"
    }
  },
  "nbformat": 4,
  "nbformat_minor": 0
}